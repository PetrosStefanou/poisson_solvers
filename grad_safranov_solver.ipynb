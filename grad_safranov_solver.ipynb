{
 "cells": [
  {
   "cell_type": "code",
   "execution_count": 1,
   "metadata": {},
   "outputs": [],
   "source": [
    "import numpy as np\n",
    "import numpy.linalg as la\n",
    "# import scipy.sparse as sparse\n",
    "\n",
    "import matplotlib.pyplot as plt\n",
    "from mpl_toolkits.mplot3d import Axes3D\n",
    "from matplotlib import cm\n",
    "\n",
    "import timeit\n",
    "import numba\n",
    "from numba import jit, njit\n",
    "\n",
    "from iteration_methods import*\n",
    "from basic import*"
   ]
  },
  {
   "cell_type": "code",
   "execution_count": 2,
   "metadata": {},
   "outputs": [],
   "source": [
    "#output settings\n",
    "np.set_printoptions(precision=2)\n",
    "%matplotlib qt "
   ]
  },
  {
   "cell_type": "code",
   "execution_count": 3,
   "metadata": {},
   "outputs": [],
   "source": [
    "@njit\n",
    "def source(r, th):\n",
    "\n",
    "    # s, sigma, Pc = params\n",
    "\n",
    "    # f = sigma*s*(P - Pc)**(2*sigma-1)*np.heaviside(P - Pc, 0)\n",
    "\n",
    "    f = np.sin(th)*(1/np.tan(th)**2-1)/r**2 \n",
    "\n",
    "    return f\n",
    "@njit\n",
    "def source_1(r, u):\n",
    "\n",
    "    f1 = u*(1/np.tan(th)**2-1)/r**2\n",
    "    \n",
    "    return f1\n",
    "\n",
    "@njit\n",
    "def u_analytical(r, th):\n",
    "\n",
    "    uan = np.sin(th) \n",
    "\n",
    "    return uan\n",
    "\n"
   ]
  },
  {
   "cell_type": "code",
   "execution_count": 4,
   "metadata": {},
   "outputs": [],
   "source": [
    "def grad_shaf_solver(matrix, source, source1, grid, init_guess=None, \n",
    "                    boundary=((0, 0), (0,0)), tolerance=1.e-8, \n",
    "                    itermax=1000, omega=1.5, params=(1, 1, 0)):\n",
    "\n",
    "    M, f, f1, u0, B, tol, kmax = matrix, source, source1, init_guess, boundary, tolerance, itermax\n",
    "\n",
    "    r, th = grid\n",
    "\n",
    "    R, TH = r[0], th[:,0]\n",
    "\n",
    "    Nr, Nth = r.shape[1]-1, th.shape[0]-1\n",
    "\n",
    "    dr, dth = (r[0, -1] - r[0, 0])/Nr, (th[-1, 0] - th[0, 0])/Nth\n",
    "\n",
    "    if init_guess is None:\n",
    "\n",
    "        u0 = np.ones_like(f)\n",
    "\n",
    "    #assign dirichlet boundary conditions\n",
    "    u0[:, 0] = B[0][0]                               \n",
    "    u0[:, -1] = B[0][1]\n",
    "    u0[0, :] = B[1][0]\n",
    "    u0[-1, :] = B[1][1]\n",
    "    \n",
    "    #initial values before the iteration loop starts\n",
    "    u = u0.copy()\n",
    "    u1 = u0.copy()\n",
    "    k = 0\n",
    "    rel_diff = tol + 1\n",
    "    conv_hist = []\n",
    "\n",
    "\n",
    "    #iteration loop using nested loops.\n",
    "    while  k < kmax and rel_diff > tol:    \n",
    "\n",
    "        u_next = u.copy()\n",
    "        u1_next = u1.copy()\n",
    "\n",
    "        f1 = source_1(r,u1)\n",
    "        # print(f1)\n",
    "\n",
    "        for j in range(1, Nth):\n",
    "            for i in range(1, Nr):\n",
    "\n",
    "                u_next[j,i] = (1-omega)*u[j,i] + omega/(2*(R[i]**2*dth**2 + dr**2))*(R[i]**2*dth**2*(u[j,i+1] + u_next[j, i-1]) + \n",
    "                                                                                      dr**2*(u[j+1,i]*(1+dth/(2*np.tan(TH[j]))) + \n",
    "                                                                                     u_next[j-1,i]*(1 - dth/(2*np.tan(TH[j])))) \n",
    "                                                                                     -f[j,i]*dr**2*dth**2*R[i]**2)\n",
    "                #-------------------------------------------------------------------------------------------------------------\n",
    "                \n",
    "                u1_next[j,i] = (1-omega)*u1[j,i] + omega/(2*(R[i]**2*dth**2 + dr**2))*(R[i]**2*dth**2*(u1[j,i+1] + u1_next[j, i-1]) + \n",
    "                                                                                      dr**2*(u1[j+1,i]*(1+dth/(2*np.tan(TH[j]))) + \n",
    "                                                                                     u1_next[j-1,i]*(1 - dth/(2*np.tan(TH[j])))) \n",
    "                                                                                     -f1[j,i]*dr**2*dth**2*R[i]**2)\n",
    "                                                                                \n",
    "\n",
    "        rel_diff = la.norm(u_next-u)/la.norm(u)\n",
    "        \n",
    "        conv_hist.append(rel_diff)\n",
    "\n",
    "        u = u_next\n",
    "        u1 = u1_next\n",
    "\n",
    "        k += 1\n",
    "\n",
    "    return u, u1, k, rel_diff, conv_hist"
   ]
  },
  {
   "cell_type": "code",
   "execution_count": 5,
   "metadata": {},
   "outputs": [
    {
     "output_type": "stream",
     "name": "stdout",
     "text": "[[     inf      inf      inf ...      inf      inf      inf]\n [     inf 2.57e+05 6.42e+04 ... 1.78e+02 1.69e+02 1.60e+02]\n [     inf 6.22e+04 1.55e+04 ... 4.31e+01 4.09e+01 3.89e+01]\n ...\n [     inf 6.22e+04 1.55e+04 ... 4.31e+01 4.09e+01 3.89e+01]\n [     inf 2.57e+05 6.42e+04 ... 1.78e+02 1.69e+02 1.60e+02]\n [     inf 1.07e+35 2.67e+34 ... 7.39e+31 7.01e+31 6.67e+31]]\n"
    }
   ],
   "source": [
    "#Setup the parameters for the solver. Functions grid(), source() are in the basic.py module\n",
    "\n",
    "R, TH, r, th, dr, dth = polar_grid(th_I=0., th_F=np.pi, r_I=0, r_F=1, Nr=40, Nth=40)                     #The grid of the problem\n",
    "\n",
    "u_guess = np.ones(r.shape)       #initial guess\n",
    "\n",
    "s = 1.6\n",
    "sigma = 1.\n",
    "Pc = 0.5\n",
    "params = (s , sigma, Pc)\n",
    "\n",
    "f = source(r, th)\n",
    "f1 = source_1(r,u_guess)\n",
    "print(f1)\n",
    "                                #source term\n",
    "u_an = u_analytical(r, th)\n",
    "\n",
    "# boundary = ((0,np.sin(np.pi*np.cos(TH))*np.sin(np.pi*np.sin(TH))+np.cos(TH)), (-R, -R))              #boundary conditions\n",
    "boundary = ((np.sin(TH), np.sin(TH)), (0., 0.))\n",
    "\n",
    "iterations = 2000                              #max number of iteration\n",
    "tolerance = 1.e-17                               #desired tolerance\n",
    "\n",
    "omega_opt = 2/(1+np.sin(np.pi*max(dr, dth)))     #relaxation parameter for SOR method"
   ]
  },
  {
   "cell_type": "code",
   "execution_count": 6,
   "metadata": {},
   "outputs": [],
   "source": [
    "grad_shaf_solver = jit(nopython=True)(grad_shaf_solver)"
   ]
  },
  {
   "cell_type": "code",
   "execution_count": 7,
   "metadata": {
    "tags": [
     "outputPrepend",
     "outputPrepend",
     "outputPrepend",
     "outputPrepend",
     "outputPrepend",
     "outputPrepend",
     "outputPrepend",
     "outputPrepend",
     "outputPrepend",
     "outputPrepend",
     "outputPrepend",
     "outputPrepend",
     "outputPrepend",
     "outputPrepend",
     "outputPrepend",
     "outputPrepend",
     "outputPrepend",
     "outputPrepend",
     "outputPrepend",
     "outputPrepend",
     "outputPrepend",
     "outputPrepend",
     "outputPrepend",
     "outputPrepend",
     "outputPrepend",
     "outputPrepend",
     "outputPrepend",
     "outputPrepend",
     "outputPrepend",
     "outputPrepend",
     "outputPrepend",
     "outputPrepend"
    ]
   },
   "outputs": [
    {
     "output_type": "stream",
     "name": "stdout",
     "text": "SOR solver \nNumber of iterations: 2000 \nLast Relative difference: 7.772E-16\nError to analytical: 4.594E-04s \nElapsed time: 1.83E+01s \n--------------------------------------------------\n"
    }
   ],
   "source": [
    "start = timeit.default_timer()\n",
    "\n",
    "u, u1, k, rel_diff, conv_hist = grad_shaf_solver(np.eye(99), f, f1, (r, th), init_guess=u_guess, boundary=boundary,                                                                         tolerance=tolerance, itermax=iterations, omega=omega_opt, params=params)\n",
    "\n",
    "elapsed = timeit.default_timer() - start\n",
    "\n",
    "error_to_an = la.norm(u - u_an, 2)/la.norm(u_an, 2)\n",
    "\n",
    "print('SOR solver \\nNumber of iterations: {:} \\nLast Relative difference: {:1.3E}' \n",
    "      '\\nError to analytical: {:1.3E}s \\nElapsed time: {:1.2E}s '.format(k, rel_diff, error_to_an, elapsed))\n",
    "print('-'*50)"
   ]
  },
  {
   "cell_type": "code",
   "execution_count": 8,
   "metadata": {},
   "outputs": [],
   "source": [
    "#Plot results. Function plot is in basic.py module.\n",
    "plot(r*np.cos(th), r*np.sin(th), u, u_an=u_an, conv_hist=conv_hist)"
   ]
  },
  {
   "cell_type": "code",
   "execution_count": 16,
   "metadata": {},
   "outputs": [
    {
     "output_type": "execute_result",
     "data": {
      "text/plain": "True"
     },
     "metadata": {},
     "execution_count": 16
    }
   ],
   "source": [
    "np.allclose(u, u1, 1.e-2)\n",
    "# print(u, u1)"
   ]
  },
  {
   "cell_type": "code",
   "execution_count": 17,
   "metadata": {},
   "outputs": [
    {
     "output_type": "execute_result",
     "data": {
      "text/plain": "<matplotlib.legend.Legend at 0x7f1059db8cd0>"
     },
     "metadata": {},
     "execution_count": 17
    }
   ],
   "source": [
    "fig = plt.figure()\n",
    "ax = fig.add_subplot(111, projection = '3d')\n",
    "\n",
    "#Scatter plot of  u\n",
    "scat = ax.scatter(r*np.cos(th), r*np.sin(th), u, c = 'r', label = 'numerical', alpha = 1)\n",
    "scat1 = ax.scatter(r*np.cos(th), r*np.sin(th), u1, c = 'g', label = 'numerical1', alpha = 1)\n",
    "ax.scatter(r*np.cos(th), r*np.sin(th), np.abs(u-u1))\n",
    "#Surface plot of analytical solution if provided\n",
    "# if u_an is not None:\n",
    "    \n",
    "#     surf = ax.plot_surface(x, y, u_an, cmap = cm.coolwarm, label = 'analytical', alpha = 0.8)\n",
    "#     #Commands to fix a bug in the legend\n",
    "#     surf._facecolors2d=surf._facecolors3d\n",
    "#     surf._edgecolors2d=surf._edgecolors3d\n",
    "\n",
    "#Make plot nice and beautifull\n",
    "ax.set_xlabel('x')\n",
    "ax.set_ylabel('y')\n",
    "ax.set_title('$u = \\sin\\pi x \\sin\\pi y + x$')\n",
    "\n",
    "ax.legend(loc = 2)"
   ]
  },
  {
   "cell_type": "code",
   "execution_count": null,
   "metadata": {},
   "outputs": [],
   "source": []
  }
 ],
 "metadata": {
  "language_info": {
   "codemirror_mode": {
    "name": "ipython",
    "version": 3
   },
   "file_extension": ".py",
   "mimetype": "text/x-python",
   "name": "python",
   "nbconvert_exporter": "python",
   "pygments_lexer": "ipython3",
   "version": "3.7.5-final"
  },
  "orig_nbformat": 2,
  "kernelspec": {
   "name": "python3",
   "display_name": "Python 3"
  }
 },
 "nbformat": 4,
 "nbformat_minor": 2
}