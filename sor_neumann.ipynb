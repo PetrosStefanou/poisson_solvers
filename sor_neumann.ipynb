{
 "cells": [
  {
   "cell_type": "code",
   "execution_count": 1,
   "metadata": {},
   "outputs": [],
   "source": [
    "import numpy as np\n",
    "import matplotlib.pyplot as plt\n",
    "from mpl_toolkits.mplot3d import Axes3D\n",
    "import numpy.linalg as la\n",
    "import scipy.sparse as sparse\n",
    "from matplotlib import cm\n",
    "import timeit\n",
    "import numba\n",
    "from numba import jit"
   ]
  },
  {
   "cell_type": "code",
   "execution_count": 2,
   "metadata": {},
   "outputs": [],
   "source": [
    "#output settings\n",
    "np.set_printoptions(precision=2)\n",
    "%matplotlib qt "
   ]
  },
  {
   "cell_type": "code",
   "execution_count": 3,
   "metadata": {},
   "outputs": [],
   "source": [
    "def u_analytical(x, y):\n",
    "\n",
    "    uan = np.sin(np.pi*x)*np.sin(np.pi*y) + x\n",
    "\n",
    "    return uan\n",
    "\n",
    "def source(x, y):\n",
    "\n",
    "    f = -2*np.pi**2*np.sin(np.pi*x)*np.sin(np.pi*y)\n",
    "\n",
    "    return f"
   ]
  },
  {
   "cell_type": "code",
   "execution_count": 4,
   "metadata": {},
   "outputs": [],
   "source": [
    "# @jit(nopython=True)\n",
    "def sor_iteration(matrix, source, grid, init_guess=None, boundary=((0, 0), (0,0)), tolerance=1.e-8, itermax=1000, omega=1.5):\n",
    "\n",
    "    M, f, u0, B, tol, kmax = matrix, source, init_guess, boundary, tolerance, itermax\n",
    "\n",
    "    x, y = grid\n",
    "\n",
    "    Nx, Ny = x.shape[1]-1, y.shape[0]-1\n",
    "\n",
    "    dx, dy = (x[0, -1] - x[0, 0])/Nx, (y[-1, 0] - y[0, 0])/Ny\n",
    "\n",
    "    if init_guess is None:\n",
    "\n",
    "        u0 = np.ones_like(f)\n",
    "\n",
    "    \n",
    "    u = u0.copy()\n",
    "\n",
    "    #assign dirichlet boundary conditions\n",
    "    u[0, :] = B[1][0]\n",
    "    u[-1, :] = B[1][1]\n",
    "    \n",
    "    # u[:, 0] = B[0][0]\n",
    "    # u[:, -1] = B[0][1]\n",
    "\n",
    "    g_I = B[0][0]\n",
    "    g_F = B[0][1]\n",
    "\n",
    "    k = 0\n",
    "    rel_diff = tol + 1\n",
    "    conv_hist = []\n",
    "       \n",
    "    #iteration loop using nested loops.\n",
    "    while  k < kmax and rel_diff > tol:\n",
    "\n",
    "        print(k)\n",
    "\n",
    "        u_next = u.copy()\n",
    "\n",
    "        \n",
    "\n",
    "        \n",
    "\n",
    "        for j in range(1, Ny):\n",
    "            for i in range(0, Nx+1):\n",
    "                \n",
    "                if i == 0:\n",
    "                \n",
    "                    u_next[j, i] = (1-omega)*u[j,i] + omega*(2*dy**2*(u[j, i+1] - dx*g_I[j]) + \n",
    "                                    (u_next[j-1, i] + u[j+1, i])*dx**2 - f[j,i]*dx**2*dy**2)/(2*(dx**2+dy**2))\n",
    "                \n",
    "                elif i == Nx: \n",
    "                    \n",
    "                    u_next[j, i] = (1-omega)*u[j,i] + omega*(2*dy**2*(u_next[j, i-1] + dx*g_F[j]) + \n",
    "                                    (u_next[j-1, i] + u[j+1, i])*dx**2 - f[j,i]*dx**2*dy**2)/(2*(dx**2+dy**2))\n",
    "\n",
    "                else:\n",
    "\n",
    "                    u_next[j, i] = (1-omega)*u[j,i] + omega*((u_next[j, i-1] + u[j, i+1])*dy**2 + \n",
    "                                    (u_next[j-1, i] + u[j+1, i])*dx**2 - f[j,i]*dx**2*dy**2)/(2*(dx**2+dy**2))\n",
    "\n",
    "                    \n",
    "\n",
    "\n",
    "        rel_diff = la.norm(u_next-u)/la.norm(u)\n",
    "        conv_hist.append(rel_diff)\n",
    "        u = u_next\n",
    "        k += 1\n",
    "\n",
    "    return u, k, rel_diff, conv_hist"
   ]
  },
  {
   "cell_type": "code",
   "execution_count": 5,
   "metadata": {},
   "outputs": [],
   "source": [
    "Nx = 1000\n",
    "Ny = 1000\n",
    "\n",
    "x_I, x_F = 0, 1\n",
    "y_I, y_F = 0, 1\n",
    "\n",
    "X = np.linspace(x_I, x_F, Nx+1)\n",
    "Y = np.linspace(y_I, y_F, Ny+1)\n",
    "\n",
    "dx = (x_F-x_I)/(Nx+1)\n",
    "dy = (y_F-y_I)/(Ny+1)\n",
    "\n",
    "x, y = np.meshgrid(X, Y)"
   ]
  },
  {
   "cell_type": "code",
   "execution_count": 6,
   "metadata": {},
   "outputs": [],
   "source": [
    "#Set up the solver parameters\n",
    "\n",
    "f = source(x, y)                                          #source term\n",
    "\n",
    "u_guess = np.exp(x)#np.sin(np.pi*x/5)*np.cos(np.pi*y)*y + 100             #initial guess\n",
    "\n",
    "itermax = 2000                                         #maximum number of iterations\n",
    "\n",
    "tol = 1e-8                                                #desired tolerance\n",
    "\n",
    "omega = 2/(1+np.sin(np.pi/Nx))\n",
    "\n",
    "g_I = np.pi*np.sin(np.pi*Y) + 1\n",
    "g_F = -np.pi*np.sin(np.pi*Y) + 1\n",
    "boundary = ((g_I, g_F), (X, X))                                #dirichlet boundary conditions\n",
    "# print(omega_opt)"
   ]
  },
  {
   "cell_type": "code",
   "execution_count": null,
   "metadata": {},
   "outputs": [],
   "source": []
  },
  {
   "cell_type": "code",
   "execution_count": 7,
   "metadata": {},
   "outputs": [
    {
     "output_type": "stream",
     "name": "stdout",
     "text": "0\n1\n2\n3\n4\n5\n6\n7\n8\n9\n10\n11\n12\n13\n14\n15\n16\n17\n18\n19\n20\n21\n22\n23\n24\n25\n26\n27\n28\n29\n30\n31\n32\n33\n34\n35\n36\n37\n38\n39\n40\n41\n42\n43\n44\n45\n46\n47\n48\n49\n50\n51\n52\n53\n54\n55\n56\n57\n58\n59\n60\n61\n62\n63\n64\n65\n66\n67\n68\n69\n70\n71\n72\n73\n74\n75\n76\n77\n78\n79\n80\n81\n82\n83\n84\n85\n86\n87\n88\n89\n90\n91\n92\n93\n94\n95\n96\n97\n98\n99\n100\n101\n102\n103\n104\n105\n106\n107\n108\n109\n110\n111\n112\n113\n114\n115\n116\n117\n118\n119\n120\n121\n122\n123\n124\n125\n126\n127\n128\n129\n130\n131\n132\n133\n134\n135\n136\n137\n138\n139\n140\n141\n142\n143\n144\n145\n146\n147\n148\n149\n150\n151\n152\n153\n154\n155\n156\n157\n158\n159\n160\n161\n162\n163\n164\n165\n166\n167\n168\n169\n170\n171\n172\n173\n174\n175\n176\n177\n178\n179\n180\n181\n182\n183\n184\n185\n186\n187\n188\n189\n190\n191\n192\n193\n194\n195\n196\n197\n198\n199\n200\n201\n202\n203\n204\n205\n206\n207\n208\n209\n"
    },
    {
     "output_type": "error",
     "ename": "KeyboardInterrupt",
     "evalue": "",
     "traceback": [
      "\u001b[0;31m---------------------------------------------------------------------------\u001b[0m",
      "\u001b[0;31mKeyboardInterrupt\u001b[0m                         Traceback (most recent call last)",
      "\u001b[0;32m<ipython-input-7-dd1e769741a3>\u001b[0m in \u001b[0;36m<module>\u001b[0;34m\u001b[0m\n\u001b[1;32m      2\u001b[0m \u001b[0;34m\u001b[0m\u001b[0m\n\u001b[1;32m      3\u001b[0m u, iternum, rel_diff, conv_hist = sor_iteration(np.eye(Nx), f, (x, y), init_guess=u_guess, \n\u001b[0;32m----> 4\u001b[0;31m                                                 boundary=boundary, tolerance=tol, itermax=itermax, omega=omega)       \n\u001b[0m\u001b[1;32m      5\u001b[0m \u001b[0;34m\u001b[0m\u001b[0m\n\u001b[1;32m      6\u001b[0m \u001b[0melapsed\u001b[0m \u001b[0;34m=\u001b[0m \u001b[0mtimeit\u001b[0m\u001b[0;34m.\u001b[0m\u001b[0mdefault_timer\u001b[0m\u001b[0;34m(\u001b[0m\u001b[0;34m)\u001b[0m \u001b[0;34m-\u001b[0m \u001b[0mstart\u001b[0m\u001b[0;34m\u001b[0m\u001b[0;34m\u001b[0m\u001b[0m\n",
      "\u001b[0;32m<ipython-input-4-d7198c92000c>\u001b[0m in \u001b[0;36msor_iteration\u001b[0;34m(matrix, source, grid, init_guess, boundary, tolerance, itermax, omega)\u001b[0m\n\u001b[1;32m     58\u001b[0m \u001b[0;34m\u001b[0m\u001b[0m\n\u001b[1;32m     59\u001b[0m                     u_next[j, i] = (1-omega)*u[j,i] + omega*((u_next[j, i-1] + u[j, i+1])*dy**2 + \n\u001b[0;32m---> 60\u001b[0;31m                                     (u_next[j-1, i] + u[j+1, i])*dx**2 - f[j,i]*dx**2*dy**2)/(2*(dx**2+dy**2))\n\u001b[0m\u001b[1;32m     61\u001b[0m \u001b[0;34m\u001b[0m\u001b[0m\n\u001b[1;32m     62\u001b[0m \u001b[0;34m\u001b[0m\u001b[0m\n",
      "\u001b[0;31mKeyboardInterrupt\u001b[0m: "
     ]
    }
   ],
   "source": [
    "start = timeit.default_timer()            #time the solver\n",
    "\n",
    "u, iternum, rel_diff, conv_hist = sor_iteration(np.eye(Nx), f, (x, y), init_guess=u_guess, \n",
    "                                                boundary=boundary, tolerance=tol, itermax=itermax, omega=omega)       \n",
    "\n",
    "elapsed = timeit.default_timer() - start"
   ]
  },
  {
   "cell_type": "code",
   "execution_count": 8,
   "metadata": {},
   "outputs": [],
   "source": [
    "#analytical solution for comparison \n",
    "u_an = u_analytical(x, y)                \n",
    "error = la.norm(u - u_an, 2)/la.norm(u_an, 2)"
   ]
  },
  {
   "cell_type": "code",
   "execution_count": 9,
   "metadata": {},
   "outputs": [
    {
     "output_type": "stream",
     "name": "stdout",
     "text": "WARNING: desired tolerance has not been reached for the given maximum iterations \n\nOmega = 1.9937 \nNumber of iterations: 2000 \nLast relative difference: 1.8266e-04 \nError to analytical: 3.2383E-02 \nTime elapsed: 4.27e+01 s\n--------------------------------------------------\n"
    }
   ],
   "source": [
    "if iternum == itermax:\n",
    "\n",
    "    print('WARNING: desired tolerance has not been reached for the given maximum iterations \\n')\n",
    "\n",
    "print('Omega = {:1.4f} \\n'\n",
    "      'Number of iterations: {} \\n'\n",
    "      'Last relative difference: {:1.4e} \\n'\n",
    "      'Error to analytical: {:1.4E} \\n'\n",
    "      'Time elapsed: {:1.2e} s'.format(omega, iternum, rel_diff, error, elapsed))\n",
    "print('-'*50)"
   ]
  },
  {
   "cell_type": "code",
   "execution_count": 10,
   "metadata": {},
   "outputs": [],
   "source": [
    "fig = plt.figure()\n",
    "ax = fig.add_subplot(111, projection = '3d')\n",
    "\n",
    "\n",
    "scat = ax.scatter(x, y, u, c = 'r', label = 'numerical', alpha = 1)\n",
    "surf = ax.plot_surface(x, y, u_an, cmap = cm.coolwarm, label = 'analytical', alpha = 0.3)\n",
    "\n",
    "ax.set_xlabel('x')\n",
    "ax.set_ylabel('y')\n",
    "ax.set_title('$u = \\sin\\pi x \\sin\\pi y + x$')\n",
    "ax.set_zlim(top=2., bottom=-0.5)\n",
    "\n",
    "surf._facecolors2d=surf._facecolors3d\n",
    "surf._edgecolors2d=surf._edgecolors3d\n",
    "ax.legend(loc = 2)\n",
    "plt.show()"
   ]
  },
  {
   "cell_type": "code",
   "execution_count": null,
   "metadata": {},
   "outputs": [],
   "source": []
  },
  {
   "cell_type": "code",
   "execution_count": null,
   "metadata": {},
   "outputs": [],
   "source": []
  }
 ],
 "metadata": {
  "language_info": {
   "codemirror_mode": {
    "name": "ipython",
    "version": 3
   },
   "file_extension": ".py",
   "mimetype": "text/x-python",
   "name": "python",
   "nbconvert_exporter": "python",
   "pygments_lexer": "ipython3",
   "version": "3.7.5-final"
  },
  "orig_nbformat": 2,
  "kernelspec": {
   "name": "python3",
   "display_name": "Python 3"
  }
 },
 "nbformat": 4,
 "nbformat_minor": 2
}