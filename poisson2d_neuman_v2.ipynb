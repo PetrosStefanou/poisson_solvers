{
 "cells": [
  {
   "cell_type": "code",
   "execution_count": 2,
   "metadata": {},
   "outputs": [],
   "source": [
    "import numpy as np\n",
    "import matplotlib.pyplot as plt\n",
    "from mpl_toolkits.mplot3d import Axes3D\n",
    "import scipy.linalg as la\n",
    "import scipy.sparse as sparse"
   ]
  },
  {
   "cell_type": "code",
   "execution_count": 3,
   "metadata": {},
   "outputs": [],
   "source": [
    "#output settings\n",
    "np.set_printoptions(precision=2)\n",
    "%matplotlib qt   "
   ]
  },
  {
   "cell_type": "code",
   "execution_count": 4,
   "metadata": {},
   "outputs": [],
   "source": [
    "#Create grid\n",
    "\n",
    "Nx = 6                              #dimensions\n",
    "Ny = 8\n",
    "\n",
    "x_I, x_F = 0, np.pi                  #boundary points\n",
    "y_I, y_F = 0, np.pi\n",
    "\n",
    "dx = (x_F - x_I)/Nx                  #step sizes\n",
    "dy = (y_F - y_I)/Ny\n",
    "step_rat = dx**2/dy**2\n",
    "\n",
    "X = np.linspace(x_I, x_F, Nx+1)      #grid\n",
    "Y = np.linspace(y_I, y_F, Ny+1)\n",
    "\n",
    "x, y = np.meshgrid(X,Y)              #2D grid"
   ]
  },
  {
   "cell_type": "code",
   "execution_count": 5,
   "metadata": {},
   "outputs": [
    {
     "output_type": "stream",
     "name": "stdout",
     "text": "[[ 1.    0.    0.    0.    0.    0.    0.  ]\n [ 1.   -5.56  1.    0.    0.    0.    0.  ]\n [ 0.    1.   -5.56  1.    0.    0.    0.  ]\n [ 0.    0.    1.   -5.56  1.    0.    0.  ]\n [ 0.    0.    0.    1.   -5.56  1.    0.  ]\n [ 0.    0.    0.    0.    1.   -5.56  1.  ]\n [ 0.    0.    0.    0.    0.    0.    1.  ]]\n"
    }
   ],
   "source": [
    "#creat main diagonal block\n",
    "b1 = np.ones(Nx)\n",
    "b1[Nx-1] = 0\n",
    "\n",
    "b2 = -2*(1+step_rat)*np.ones(Nx+1)\n",
    "b2[0] = 1\n",
    "b2[Nx] = 1\n",
    "\n",
    "b3 = np.ones(Nx)\n",
    "b3[0] = 0\n",
    "\n",
    "\n",
    "B = sparse.diags([b1, b2, b3], [-1, 0, 1]).toarray()             #main block matrix\n",
    "\n",
    "print(B)\n",
    "\n",
    "M1 = sparse.kron(sparse.eye(Ny+1), B).toarray()                  #central component of the tridiagonal block matrix"
   ]
  },
  {
   "cell_type": "code",
   "execution_count": 6,
   "metadata": {},
   "outputs": [],
   "source": [
    "#creat upper and lower diagonal blocks\n",
    "a = sparse.diags([np.ones(Ny), np.ones(Ny)], [-1, 1]).toarray()\n",
    "a[0,1] = 2            #in case of neumann boundary conditions\n",
    "a[-1,-2] = 2\n",
    "\n",
    "A = step_rat*sparse.eye(Nx+1).toarray()                       #upper/lower block matrix\n",
    "A[0, 0] = 0\n",
    "A[Nx, Nx] = 0\n",
    "\n",
    "M2 = sparse.kron(a, A).toarray()                              #upper/lower component of the tridiagonal block matrix\n",
    "# print(A)"
   ]
  },
  {
   "cell_type": "code",
   "execution_count": 7,
   "metadata": {},
   "outputs": [],
   "source": [
    "#creat the tridiagonal block matrix of the 2d poisson equation.\n",
    "M = M1 + M2       \n",
    "# print(M)"
   ]
  },
  {
   "cell_type": "code",
   "execution_count": 8,
   "metadata": {},
   "outputs": [],
   "source": [
    "def u_analytical(x, y):\n",
    "\n",
    "    uan = x*(np.pi-x)*np.cos(y)+y\n",
    "\n",
    "    return uan\n",
    "\n",
    "def source(x, y): \n",
    "\n",
    "    f = -np.cos(y)*(x*(np.pi-x)+2)\n",
    "\n",
    "    return f"
   ]
  },
  {
   "cell_type": "code",
   "execution_count": 9,
   "metadata": {},
   "outputs": [
    {
     "output_type": "stream",
     "name": "stdout",
     "text": "[[-5.48e-01 -9.24e-01 -1.15e+00 -1.22e+00 -1.15e+00 -9.24e-01 -5.48e-01]\n [-5.07e-01 -8.54e-01 -1.06e+00 -1.13e+00 -1.06e+00 -8.54e-01 -5.07e-01]\n [-3.88e-01 -6.53e-01 -8.13e-01 -8.66e-01 -8.13e-01 -6.53e-01 -3.88e-01]\n [-2.10e-01 -3.54e-01 -4.40e-01 -4.69e-01 -4.40e-01 -3.54e-01 -2.10e-01]\n [-3.36e-17 -5.66e-17 -7.04e-17 -7.50e-17 -7.04e-17 -5.66e-17 -3.36e-17]\n [ 2.10e-01  3.54e-01  4.40e-01  4.69e-01  4.40e-01  3.54e-01  2.10e-01]\n [ 3.88e-01  6.53e-01  8.13e-01  8.66e-01  8.13e-01  6.53e-01  3.88e-01]\n [ 5.07e-01  8.54e-01  1.06e+00  1.13e+00  1.06e+00  8.54e-01  5.07e-01]\n [ 5.48e-01  9.24e-01  1.15e+00  1.22e+00  1.15e+00  9.24e-01  5.48e-01]] \n\n[-5.48e-01 -9.24e-01 -1.15e+00 -1.22e+00 -1.15e+00 -9.24e-01 -5.48e-01\n -5.07e-01 -8.54e-01 -1.06e+00 -1.13e+00 -1.06e+00 -8.54e-01 -5.07e-01\n -3.88e-01 -6.53e-01 -8.13e-01 -8.66e-01 -8.13e-01 -6.53e-01 -3.88e-01\n -2.10e-01 -3.54e-01 -4.40e-01 -4.69e-01 -4.40e-01 -3.54e-01 -2.10e-01\n -3.36e-17 -5.66e-17 -7.04e-17 -7.50e-17 -7.04e-17 -5.66e-17 -3.36e-17\n  2.10e-01  3.54e-01  4.40e-01  4.69e-01  4.40e-01  3.54e-01  2.10e-01\n  3.88e-01  6.53e-01  8.13e-01  8.66e-01  8.13e-01  6.53e-01  3.88e-01\n  5.07e-01  8.54e-01  1.06e+00  1.13e+00  1.06e+00  8.54e-01  5.07e-01\n  5.48e-01  9.24e-01  1.15e+00  1.22e+00  1.15e+00  9.24e-01  5.48e-01] \n\n[ 0.00e+00 -9.24e-01 -1.15e+00 -1.22e+00 -1.15e+00 -9.24e-01  0.00e+00\n  3.93e-01 -8.54e-01 -1.06e+00 -1.13e+00 -1.06e+00 -8.54e-01  3.93e-01\n  7.85e-01 -6.53e-01 -8.13e-01 -8.66e-01 -8.13e-01 -6.53e-01  7.85e-01\n  1.18e+00 -3.54e-01 -4.40e-01 -4.69e-01 -4.40e-01 -3.54e-01  1.18e+00\n  1.57e+00 -5.66e-17 -7.04e-17 -7.50e-17 -7.04e-17 -5.66e-17  1.57e+00\n  1.96e+00  3.54e-01  4.40e-01  4.69e-01  4.40e-01  3.54e-01  1.96e+00\n  2.36e+00  6.53e-01  8.13e-01  8.66e-01  8.13e-01  6.53e-01  2.36e+00\n  2.75e+00  8.54e-01  1.06e+00  1.13e+00  1.06e+00  8.54e-01  2.75e+00\n  3.14e+00  9.24e-01  1.15e+00  1.22e+00  1.15e+00  9.24e-01  3.14e+00] \n\n[ 0.00e+00  4.72e-01  2.47e-01  1.72e-01  2.47e-01  4.72e-01  0.00e+00\n  3.93e-01 -8.54e-01 -1.06e+00 -1.13e+00 -1.06e+00 -8.54e-01  3.93e-01\n  7.85e-01 -6.53e-01 -8.13e-01 -8.66e-01 -8.13e-01 -6.53e-01  7.85e-01\n  1.18e+00 -3.54e-01 -4.40e-01 -4.69e-01 -4.40e-01 -3.54e-01  1.18e+00\n  1.57e+00 -5.66e-17 -7.04e-17 -7.50e-17 -7.04e-17 -5.66e-17  1.57e+00\n  1.96e+00  3.54e-01  4.40e-01  4.69e-01  4.40e-01  3.54e-01  1.96e+00\n  2.36e+00  6.53e-01  8.13e-01  8.66e-01  8.13e-01  6.53e-01  2.36e+00\n  2.75e+00  8.54e-01  1.06e+00  1.13e+00  1.06e+00  8.54e-01  2.75e+00\n  3.14e+00 -4.72e-01 -2.47e-01 -1.72e-01 -2.47e-01 -4.72e-01  3.14e+00]\n"
    }
   ],
   "source": [
    "rhs = source(x, y)*dx**2\n",
    "print(rhs, '\\n')\n",
    "rhs = rhs.reshape((Nx+1)*(Ny+1))\n",
    "print(rhs, '\\n')\n",
    "rhs[0::Nx+1] = Y\n",
    "rhs[Nx::Nx+1] = Y\n",
    "print(rhs, '\\n')\n",
    "rhs[1:Nx] += 2*step_rat*dy\n",
    "rhs[-Nx:-1] -= 2*step_rat*dy\n",
    "print(rhs)\n"
   ]
  },
  {
   "cell_type": "code",
   "execution_count": 10,
   "metadata": {},
   "outputs": [
    {
     "output_type": "stream",
     "name": "stdout",
     "text": "[[0.   1.38 2.21 2.48 2.21 1.38 0.  ]\n [0.39 1.67 2.43 2.69 2.43 1.67 0.39]\n [0.79 1.76 2.35 2.54 2.35 1.76 0.79]\n [1.18 1.71 2.02 2.13 2.02 1.71 1.18]\n [1.57 1.57 1.57 1.57 1.57 1.57 1.57]\n [1.96 1.44 1.12 1.01 1.12 1.44 1.96]\n [2.36 1.38 0.8  0.6  0.8  1.38 2.36]\n [2.75 1.47 0.71 0.45 0.71 1.47 2.75]\n [3.14 1.76 0.93 0.66 0.93 1.76 3.14]] \n [[0.   1.37 2.19 2.47 2.19 1.37 0.  ]\n [0.39 1.66 2.42 2.67 2.42 1.66 0.39]\n [0.79 1.75 2.34 2.53 2.34 1.75 0.79]\n [1.18 1.7  2.02 2.12 2.02 1.7  1.18]\n [1.57 1.57 1.57 1.57 1.57 1.57 1.57]\n [1.96 1.44 1.12 1.02 1.12 1.44 1.96]\n [2.36 1.39 0.81 0.61 0.81 1.39 2.36]\n [2.75 1.48 0.72 0.47 0.72 1.48 2.75]\n [3.14 1.77 0.95 0.67 0.95 1.77 3.14]]\n"
    }
   ],
   "source": [
    "u = la.solve(M, rhs)\n",
    "u = u.reshape(Ny+1, Nx+1)\n",
    "\n",
    "u_an = u_analytical(x, y)\n",
    "\n",
    "print(u, '\\n', u_an)"
   ]
  },
  {
   "cell_type": "code",
   "execution_count": 11,
   "metadata": {},
   "outputs": [
    {
     "output_type": "execute_result",
     "data": {
      "text/plain": "Text(0.5, 0, 'y')"
     },
     "metadata": {},
     "execution_count": 11
    }
   ],
   "source": [
    "fig = plt.figure()                                #create 3D figure and axes\n",
    "ax = fig.add_subplot(111, projection='3d')\n",
    "\n",
    "ax.scatter(x, y, u, label = 'numerical', c = 'r')\n",
    "ax.plot_surface(x, y, u_an, label = 'analytical')\n",
    "\n",
    "ax.set_xlabel('x')\n",
    "ax.set_ylabel('y')\n",
    "\n",
    "# ax.legend()\n"
   ]
  },
  {
   "cell_type": "code",
   "execution_count": null,
   "metadata": {},
   "outputs": [],
   "source": []
  }
 ],
 "metadata": {
  "language_info": {
   "codemirror_mode": {
    "name": "ipython",
    "version": 3
   },
   "file_extension": ".py",
   "mimetype": "text/x-python",
   "name": "python",
   "nbconvert_exporter": "python",
   "pygments_lexer": "ipython3",
   "version": "3.7.5-final"
  },
  "orig_nbformat": 2,
  "kernelspec": {
   "name": "python3",
   "display_name": "Python 3"
  }
 },
 "nbformat": 4,
 "nbformat_minor": 2
}