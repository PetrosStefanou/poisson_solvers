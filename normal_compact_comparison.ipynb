{
 "cells": [
  {
   "cell_type": "code",
   "execution_count": 1,
   "metadata": {},
   "outputs": [],
   "source": [
    "import numpy as np\n",
    "import numpy.linalg as la\n",
    "# import scipy.sparse as sparse\n",
    "\n",
    "import matplotlib.pyplot as plt\n",
    "from mpl_toolkits.mplot3d import Axes3D\n",
    "from matplotlib import cm\n",
    "from matplotlib.patches import Circle\n",
    "\n",
    "\n",
    "import timeit\n",
    "import numba\n",
    "from numba import jit, njit\n",
    "\n",
    "from iteration_methods import grad_shaf_solver, gs_comp_solver \n",
    "from basic import*"
   ]
  },
  {
   "cell_type": "code",
   "execution_count": 2,
   "metadata": {},
   "outputs": [],
   "source": [
    "#Set output options\n",
    "np.set_printoptions(precision=2)\n",
    "%matplotlib qt "
   ]
  },
  {
   "cell_type": "code",
   "execution_count": 3,
   "metadata": {},
   "outputs": [],
   "source": [
    "@njit\n",
    "def source(r, th, u, params = (1, 0, 0.5)):\n",
    "\n",
    "    sigma, s, uc = params\n",
    "\n",
    "    f1 = -sigma*s**2*(u-uc)**(2*sigma-1)\n",
    "    \n",
    "    return f1\n",
    "\n",
    "@njit\n",
    "def u_analytical(r, th):\n",
    "\n",
    "    uan = np.sin(th)**2/r \n",
    "\n",
    "    return uan"
   ]
  },
  {
   "cell_type": "code",
   "execution_count": 4,
   "metadata": {},
   "outputs": [],
   "source": [
    "#Setup the parameters for the solver. Function grid() is in the basic.py module\n",
    "\n",
    "\n",
    "       \n",
    "#extra parameters that may be needed\n",
    "sigma = 1.1\n",
    "s = 0.\n",
    "uc = 0.5\n",
    "params = (sigma , s, uc)\n",
    "# params1 = (sigma , 0., uc)\n",
    "# params2 = (1. , s, uc)\n",
    "\n",
    "#max number of iteration\n",
    "iterations = 10000                              \n",
    "\n",
    "#desired tolerance\n",
    "tolerance = 1.e-8                                   "
   ]
  },
  {
   "cell_type": "code",
   "execution_count": 5,
   "metadata": {},
   "outputs": [],
   "source": [
    "#jit the solver function\n",
    "gs_comp_solver = jit(nopython=True)(gs_comp_solver)\n",
    "grad_shaf_solver = jit(nopython=True)(grad_shaf_solver)"
   ]
  },
  {
   "cell_type": "code",
   "execution_count": 6,
   "metadata": {
    "tags": []
   },
   "outputs": [
    {
     "output_type": "stream",
     "name": "stdout",
     "text": "Nr=25\nSOR solver compact \nNumber of iterations: 689 \nLast Relative difference: 8.977E-09\nError to analytical: 1.481E-04s \nElapsed time: 2.94E+00s \n--------------------------------------------------\nNr=50\nSOR solver compact \nNumber of iterations: 711 \nLast Relative difference: 9.815E-09\nError to analytical: 1.502E-04s \nElapsed time: 2.01E+00s \n--------------------------------------------------\nNr=100\nSOR solver compact \nNumber of iterations: 743 \nLast Relative difference: 9.803E-09\nError to analytical: 1.513E-04s \nElapsed time: 4.39E+00s \n--------------------------------------------------\nNr=200\nSOR solver compact \nNumber of iterations: 808 \nLast Relative difference: 8.462E-09\nError to analytical: 1.518E-04s \nElapsed time: 8.99E+00s \n--------------------------------------------------\nNr=400\nSOR solver compact \nNumber of iterations: 1234 \nLast Relative difference: 9.978E-09\nError to analytical: 1.528E-04s \nElapsed time: 2.88E+01s \n--------------------------------------------------\n"
    }
   ],
   "source": [
    "#Calculate, time and qualify the solution in the compact coordinates\n",
    "\n",
    "r_s = 10000.\n",
    "error_to_an = []\n",
    "Nmax=200\n",
    "N = np.array([25, 50, 100, 200, 400])\n",
    "# N = [100]\n",
    "u_list=[]\n",
    "resolution = []\n",
    "omega = np.asarray(np.arange(1.8, 2., 0.025))\n",
    "k_list=[]\n",
    "for n in range(len(N)):\n",
    "# for i in range(len(omega)):\n",
    "    print('Nr={:}'.format(N[n]))\n",
    "    \n",
    "    #The grid of the problem\n",
    "    Q, TH, q, th, dq, dth = polar_grid(th_I=0, th_F=np.pi, r_I=0, r_F=r_s, Nr=N[n], Nth=100)\n",
    "    R, r = r_s**2/Q, r_s**2/q\n",
    "\n",
    "    resolution.append(dq)\n",
    "\n",
    "    u_an = u_analytical(r, th)\n",
    "    u_guess = 2*np.sin(th)**2/r       \n",
    "    boundary = ((0, np.sin(TH)**2/r_s), (0., 0.))                                   \n",
    "    omega_opt = 1.975     \n",
    "\n",
    "    start = timeit.default_timer()\n",
    "\n",
    "    u, k, rel_diff, conv_hist = gs_comp_solver(np.eye(2), source, (q, th), init_guess=u_guess, boundary=boundary,                                                                         tolerance=tolerance, itermax=iterations, omega=omega_opt, params=params)\n",
    "\n",
    "    elapsed = timeit.default_timer() - start\n",
    "\n",
    "    u_list.append(u)\n",
    "    k_list.append(k)\n",
    "    #Relative error to analytical\n",
    "    error = la.norm(u - u_an, 2)/la.norm(u_an, 2)\n",
    "    error_to_an.append(error)\n",
    "\n",
    "    #print solution\n",
    "    print('SOR solver compact \\nNumber of iterations: {:} \\nLast Relative difference: {:1.3E}' \n",
    "        '\\nError to analytical: {:1.3E}s \\nElapsed time: {:1.2E}s '.format(k, rel_diff, error, elapsed))\n",
    "    print('-'*50)"
   ]
  },
  {
   "cell_type": "code",
   "execution_count": 7,
   "metadata": {
    "tags": []
   },
   "outputs": [
    {
     "output_type": "stream",
     "name": "stdout",
     "text": "Nr=25\nSOR solver normal \nNumber of iterations: 664 \nLast Relative difference: 9.605E-09\nError to analytical: 1.539E-02s \nElapsed time: 2.76E+00s \n--------------------------------------------------\nNr=50\nSOR solver normal \nNumber of iterations: 666 \nLast Relative difference: 8.679E-09\nError to analytical: 4.468E-03s \nElapsed time: 1.90E+00s \n--------------------------------------------------\nNr=100\nSOR solver normal \nNumber of iterations: 659 \nLast Relative difference: 9.963E-09\nError to analytical: 1.369E-03s \nElapsed time: 3.82E+00s \n--------------------------------------------------\nNr=200\nSOR solver normal \nNumber of iterations: 630 \nLast Relative difference: 9.862E-09\nError to analytical: 5.624E-04s \nElapsed time: 7.27E+00s \n--------------------------------------------------\nNr=400\nSOR solver normal \nNumber of iterations: 2728 \nLast Relative difference: 9.970E-09\nError to analytical: 3.632E-04s \nElapsed time: 6.37E+01s \n--------------------------------------------------\n"
    }
   ],
   "source": [
    "#Calculate, time and qualify the solution in the normal coordinates\n",
    "\n",
    "rs = 1\n",
    "error_to_an1 = []\n",
    "Nmax=400\n",
    "N = np.array([25, 50, 100, 200, 400])\n",
    "# N = [50]\n",
    "u1_list=[]\n",
    "resolution1 = []\n",
    "for n in range(len(N)):\n",
    "    print('Nr={:}'.format(N[n]))\n",
    "    \n",
    "    #The grid of the problem\n",
    "    R1, TH1, r1, th1, dr1, dth1 = polar_grid(th_I=0, th_F=np.pi, r_I=r_s, r_F=10*r_s, Nr=N[n], Nth=100)            \n",
    "\n",
    "    \n",
    "    resolution1.append(dr1)\n",
    "\n",
    "    u_an1 = u_analytical(r1, th1)\n",
    "    u_guess1 = 2*np.sin(th1)**2/r1       \n",
    "    boundary1 = ((np.sin(TH1)**2/r_s, 0), (0., 0.))                                   \n",
    "    omega_opt1 = 1.975     \n",
    "\n",
    "    start = timeit.default_timer()\n",
    "\n",
    "    u1, k1, rel_diff1, conv_hist1 = grad_shaf_solver(np.eye(2), source, (r1, th1), init_guess=u_guess1, boundary=boundary1,                                                                         tolerance=tolerance, itermax=iterations, omega=omega_opt1,                                                                           params=params)\n",
    "\n",
    "    elapsed = timeit.default_timer() - start\n",
    "\n",
    "    u1_list.append(u1)\n",
    "\n",
    "    #Relative error to analytical\n",
    "    error1 = la.norm(u1 - u_an1, 2)/la.norm(u_an1, 2)\n",
    "    error_to_an1.append(error1)\n",
    "\n",
    "    #print solution\n",
    "    print('SOR solver normal \\nNumber of iterations: {:} \\nLast Relative difference: {:1.3E}' \n",
    "        '\\nError to analytical: {:1.3E}s \\nElapsed time: {:1.2E}s '.format(k1, rel_diff1, error1, elapsed))\n",
    "    print('-'*50)"
   ]
  },
  {
   "cell_type": "code",
   "execution_count": 8,
   "metadata": {},
   "outputs": [
    {
     "output_type": "execute_result",
     "data": {
      "text/plain": "<matplotlib.legend.Legend at 0x7efe30117f10>"
     },
     "metadata": {},
     "execution_count": 8
    }
   ],
   "source": [
    "fig3, ax3 = plt.subplots()\n",
    "\n",
    "ax3.plot(N, error_to_an, label='compact')\n",
    "ax3.plot(N, error_to_an1, label='normal')\n",
    "ax3.plot(N, 1/N**2)\n",
    "ax3.set_yscale('log')\n",
    "ax3.set_xscale('log')\n",
    "\n",
    "ax3.legend()"
   ]
  },
  {
   "cell_type": "code",
   "execution_count": 9,
   "metadata": {},
   "outputs": [
    {
     "output_type": "execute_result",
     "data": {
      "text/plain": "<matplotlib.legend.Legend at 0x7efe35d6da10>"
     },
     "metadata": {},
     "execution_count": 9
    }
   ],
   "source": [
    "fig2, ax2 = plt.subplots()\n",
    "\n",
    "levels=20\n",
    "colormap=cm.viridis\n",
    "\n",
    "cont = ax2.contour(r*np.sin(th), r*np.cos(th), u, levels=levels, cmap=colormap)\n",
    "\n",
    "cont1 = ax2.contour(r1*np.sin(th1), r1*np.cos(th1), u1, levels=levels, cmap=colormap, linestyles = 'dashed')\n",
    "\n",
    "# cont2 = ax2.contour(r*np.sin(th), r*np.cos(th), u2, levels=levels, cmap=colormap, linestyles = 'dotted') \n",
    "\n",
    "# cont_c = ax2.contour(r_s**2/q*np.sin(th), r_s**2/q*np.cos(th), u, levels=[uc], colors='red')\n",
    "# cont_c1 = ax2.contour(r*np.sin(th), r*np.cos(th), u1, levels=[uc], colors='green')\n",
    "# cont_c2 = ax2.contour(r*np.sin(th), r*np.cos(th), u2, levels=[uc], colors='yellow')\n",
    "cont_an = ax2.contour(r*np.sin(th), r*np.cos(th), u_an, levels=levels, cmap=colormap, alpha=0.5)\n",
    "\n",
    "ax2.add_patch(Circle((0.,0.), r_s, color='b', zorder=100))\n",
    "\n",
    "ax2.set_ylim(top=10*r_s*np.cos(TH[0])/2, bottom=10*r_s*np.cos(TH[-1])/2)\n",
    "ax2.set_xlim(left=0., right=10*r_s)\n",
    "\n",
    "ax2.set_title('compact')\n",
    "h,_ = cont.legend_elements()\n",
    "h1,_ = cont1.legend_elements()\n",
    "# # h2,_ = cont2.legend_elements()\n",
    "h_an,_ = cont_an.legend_elements()\n",
    "ax2.legend([h[0], h1[0], h_an[0]], ['compact', 'normal', 'analytical'], loc=3)"
   ]
  }
 ],
 "metadata": {
  "language_info": {
   "codemirror_mode": {
    "name": "ipython",
    "version": 3
   },
   "file_extension": ".py",
   "mimetype": "text/x-python",
   "name": "python",
   "nbconvert_exporter": "python",
   "pygments_lexer": "ipython3",
   "version": "3.7.5-final"
  },
  "orig_nbformat": 2,
  "kernelspec": {
   "name": "python3",
   "display_name": "Python 3"
  }
 },
 "nbformat": 4,
 "nbformat_minor": 2
}