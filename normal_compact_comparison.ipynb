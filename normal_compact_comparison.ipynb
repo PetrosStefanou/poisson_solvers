{
 "cells": [
  {
   "cell_type": "code",
   "execution_count": 1,
   "metadata": {},
   "outputs": [],
   "source": [
    "import numpy as np\n",
    "import numpy.linalg as la\n",
    "# import scipy.sparse as sparse\n",
    "\n",
    "import matplotlib.pyplot as plt\n",
    "from mpl_toolkits.mplot3d import Axes3D\n",
    "from matplotlib import cm\n",
    "from matplotlib.patches import Circle\n",
    "\n",
    "\n",
    "import timeit\n",
    "import numba\n",
    "from numba import jit, njit\n",
    "\n",
    "from iteration_methods import grad_shaf_solver, gs_comp_solver \n",
    "from basic import*"
   ]
  },
  {
   "cell_type": "code",
   "execution_count": 2,
   "metadata": {},
   "outputs": [],
   "source": [
    "#Set output options\n",
    "np.set_printoptions(precision=2)\n",
    "%matplotlib qt "
   ]
  },
  {
   "cell_type": "code",
   "execution_count": 3,
   "metadata": {},
   "outputs": [],
   "source": [
    "@njit\n",
    "def source(r, th, u, params = (1, 0, 0.5)):\n",
    "\n",
    "    sigma, s, uc = params\n",
    "\n",
    "    f1 = -sigma*s**2*(u-uc)**(2*sigma-1)\n",
    "    \n",
    "    return f1\n",
    "\n",
    "@njit\n",
    "def u_analytical(r, th):\n",
    "\n",
    "    uan = np.sin(th)**2/r \n",
    "\n",
    "    return uan"
   ]
  },
  {
   "cell_type": "code",
   "execution_count": 4,
   "metadata": {},
   "outputs": [],
   "source": [
    "#Setup the parameters for the solver. Function grid() is in the basic.py module\n",
    "\n",
    "\n",
    "       \n",
    "#extra parameters that may be needed\n",
    "sigma = 1.1\n",
    "s = 0.\n",
    "uc = 0.5\n",
    "params = (sigma , s, uc)\n",
    "# params1 = (sigma , 0., uc)\n",
    "# params2 = (1. , s, uc)\n",
    "\n",
    "#max number of iteration\n",
    "iterations = 10000                              \n",
    "\n",
    "#desired tolerance\n",
    "tolerance = 1.e-8                                   "
   ]
  },
  {
   "cell_type": "code",
   "execution_count": 5,
   "metadata": {},
   "outputs": [],
   "source": [
    "#jit the solver function\n",
    "gs_comp_solver = jit(nopython=True)(gs_comp_solver)\n",
    "grad_shaf_solver = jit(nopython=True)(grad_shaf_solver)"
   ]
  },
  {
   "cell_type": "code",
   "execution_count": 6,
   "metadata": {
    "tags": []
   },
   "outputs": [
    {
     "output_type": "stream",
     "name": "stdout",
     "text": "50 0.02\nSOR solver compact \nNumber of iterations: 735 \nLast Relative difference: 9.650E-09\nError to analytical: 6.018E-04s \nElapsed time: 4.69E+00s \n--------------------------------------------------\n"
    }
   ],
   "source": [
    "#Calculate, time and qualify the solution in the compact coordinates\n",
    "\n",
    "r_s = 1.\n",
    "error_to_an = []\n",
    "Nmax=200\n",
    "N = np.array([25, 50, 100, 200, 400])\n",
    "# N = [100]*5\n",
    "u_list=[]\n",
    "resolution = []\n",
    "omega = np.asarray(np.arange(1.8, 2., 0.025))\n",
    "k_list=[]\n",
    "# for n in range(len(N)):\n",
    "# # for i in range(len(omega)):\n",
    "#     print('Nr={:}'.format(N[n]))\n",
    "    \n",
    "#The grid of the problem\n",
    "Q, TH, q, th, dq, dth = polar_grid(th_I=0, th_F=np.pi, r_I=0, r_F=r_s, Nr=50, Nth=50)\n",
    "R, r = r_s**2/Q, r_s**2/q\n",
    "\n",
    "resolution.append(dq)\n",
    "\n",
    "u_an = u_analytical(r, th)\n",
    "u_guess = 2*np.sin(th)**2/r       \n",
    "boundary = ((0, np.sin(TH)**2/r_s), (0., 0.))                                   \n",
    "omega_opt = 1.975     \n",
    "\n",
    "start = timeit.default_timer()\n",
    "\n",
    "u, k, rel_diff, conv_hist = gs_comp_solver(np.eye(2), source, (q, th), init_guess=u_guess, boundary=boundary,                                                                         tolerance=tolerance, itermax=iterations, omega=omega_opt, params=params)\n",
    "\n",
    "elapsed = timeit.default_timer() - start\n",
    "\n",
    "u_list.append(u)\n",
    "k_list.append(k)\n",
    "#Relative error to analytical\n",
    "error = la.norm(u - u_an, 2)/la.norm(u_an, 2)\n",
    "error_to_an.append(error)\n",
    "\n",
    "#print solution\n",
    "print('SOR solver compact \\nNumber of iterations: {:} \\nLast Relative difference: {:1.3E}' \n",
    "    '\\nError to analytical: {:1.3E}s \\nElapsed time: {:1.2E}s '.format(k, rel_diff, error, elapsed))\n",
    "print('-'*50)"
   ]
  },
  {
   "cell_type": "code",
   "execution_count": 7,
   "metadata": {
    "tags": []
   },
   "outputs": [
    {
     "output_type": "stream",
     "name": "stdout",
     "text": "SOR solver normal \nNumber of iterations: 677 \nLast Relative difference: 9.566E-09\nError to analytical: 5.280E-03s \nElapsed time: 3.71E+00s \n--------------------------------------------------\n"
    }
   ],
   "source": [
    "#Calculate, time and qualify the solution in the normal coordinates\n",
    "\n",
    "r_s = 1\n",
    "error_to_an1 = []\n",
    "Nmax=400\n",
    "N = np.array([25, 50, 100, 200, 400])\n",
    "# N = [50]\n",
    "u1_list=[]\n",
    "resolution1 = []\n",
    "# for n in range(len(N)):\n",
    "#     print('Nr={:}'.format(N[n]))\n",
    "    \n",
    "#The grid of the problem\n",
    "R1, TH1, r1, th1, dr1, dth1 = polar_grid(th_I=0, th_F=np.pi, r_I=r_s, r_F=10*r_s, Nr=50, Nth=50)            \n",
    "\n",
    "\n",
    "resolution1.append(dr1)\n",
    "\n",
    "u_an1 = u_analytical(r1, th1)\n",
    "u_guess1 = 2*np.sin(th1)**2/r1       \n",
    "boundary1 = ((np.sin(TH1)**2/r_s, 0), (0., 0.))                                   \n",
    "omega_opt1 = 1.975     \n",
    "\n",
    "start = timeit.default_timer()\n",
    "\n",
    "u1, k1, rel_diff1, conv_hist1 = grad_shaf_solver(np.eye(2), source, (r1, th1), init_guess=u_guess1, boundary=boundary1,                                                                         tolerance=tolerance, itermax=iterations, omega=omega_opt1,                                                                           params=params)\n",
    "\n",
    "elapsed = timeit.default_timer() - start\n",
    "\n",
    "u1_list.append(u1)\n",
    "\n",
    "#Relative error to analytical\n",
    "error1 = la.norm(u1 - u_an1, 2)/la.norm(u_an1, 2)\n",
    "error_to_an1.append(error1)\n",
    "\n",
    "#print solution\n",
    "print('SOR solver normal \\nNumber of iterations: {:} \\nLast Relative difference: {:1.3E}' \n",
    "    '\\nError to analytical: {:1.3E}s \\nElapsed time: {:1.2E}s '.format(k1, rel_diff1, error1, elapsed))\n",
    "print('-'*50)"
   ]
  },
  {
   "cell_type": "code",
   "execution_count": 8,
   "metadata": {},
   "outputs": [
    {
     "output_type": "error",
     "ename": "ValueError",
     "evalue": "x and y must have same first dimension, but have shapes (5,) and (1,)",
     "traceback": [
      "\u001b[0;31m---------------------------------------------------------------------------\u001b[0m",
      "\u001b[0;31mValueError\u001b[0m                                Traceback (most recent call last)",
      "\u001b[0;32m<ipython-input-8-2486d12ac3bf>\u001b[0m in \u001b[0;36m<module>\u001b[0;34m\u001b[0m\n\u001b[1;32m      1\u001b[0m \u001b[0mfig3\u001b[0m\u001b[0;34m,\u001b[0m \u001b[0max3\u001b[0m \u001b[0;34m=\u001b[0m \u001b[0mplt\u001b[0m\u001b[0;34m.\u001b[0m\u001b[0msubplots\u001b[0m\u001b[0;34m(\u001b[0m\u001b[0;34m)\u001b[0m\u001b[0;34m\u001b[0m\u001b[0;34m\u001b[0m\u001b[0m\n\u001b[1;32m      2\u001b[0m \u001b[0;34m\u001b[0m\u001b[0m\n\u001b[0;32m----> 3\u001b[0;31m \u001b[0max3\u001b[0m\u001b[0;34m.\u001b[0m\u001b[0mplot\u001b[0m\u001b[0;34m(\u001b[0m\u001b[0mN\u001b[0m\u001b[0;34m,\u001b[0m \u001b[0merror_to_an\u001b[0m\u001b[0;34m,\u001b[0m \u001b[0mlabel\u001b[0m\u001b[0;34m=\u001b[0m\u001b[0;34m'compact'\u001b[0m\u001b[0;34m,\u001b[0m \u001b[0mc\u001b[0m\u001b[0;34m=\u001b[0m\u001b[0;34m'b'\u001b[0m\u001b[0;34m)\u001b[0m\u001b[0;34m\u001b[0m\u001b[0;34m\u001b[0m\u001b[0m\n\u001b[0m\u001b[1;32m      4\u001b[0m \u001b[0max3\u001b[0m\u001b[0;34m.\u001b[0m\u001b[0mplot\u001b[0m\u001b[0;34m(\u001b[0m\u001b[0mN\u001b[0m\u001b[0;34m,\u001b[0m \u001b[0merror_to_an1\u001b[0m\u001b[0;34m,\u001b[0m \u001b[0mlabel\u001b[0m\u001b[0;34m=\u001b[0m\u001b[0;34m'normal'\u001b[0m\u001b[0;34m,\u001b[0m \u001b[0mc\u001b[0m\u001b[0;34m=\u001b[0m\u001b[0;34m'r'\u001b[0m\u001b[0;34m)\u001b[0m\u001b[0;34m\u001b[0m\u001b[0;34m\u001b[0m\u001b[0m\n\u001b[1;32m      5\u001b[0m \u001b[0max3\u001b[0m\u001b[0;34m.\u001b[0m\u001b[0mscatter\u001b[0m\u001b[0;34m(\u001b[0m\u001b[0mN\u001b[0m\u001b[0;34m,\u001b[0m \u001b[0merror_to_an\u001b[0m\u001b[0;34m,\u001b[0m \u001b[0mc\u001b[0m\u001b[0;34m=\u001b[0m\u001b[0;34m'b'\u001b[0m\u001b[0;34m)\u001b[0m\u001b[0;34m\u001b[0m\u001b[0;34m\u001b[0m\u001b[0m\n",
      "\u001b[0;32m~/anaconda3/lib/python3.7/site-packages/matplotlib/axes/_axes.py\u001b[0m in \u001b[0;36mplot\u001b[0;34m(self, scalex, scaley, data, *args, **kwargs)\u001b[0m\n\u001b[1;32m   1664\u001b[0m         \"\"\"\n\u001b[1;32m   1665\u001b[0m         \u001b[0mkwargs\u001b[0m \u001b[0;34m=\u001b[0m \u001b[0mcbook\u001b[0m\u001b[0;34m.\u001b[0m\u001b[0mnormalize_kwargs\u001b[0m\u001b[0;34m(\u001b[0m\u001b[0mkwargs\u001b[0m\u001b[0;34m,\u001b[0m \u001b[0mmlines\u001b[0m\u001b[0;34m.\u001b[0m\u001b[0mLine2D\u001b[0m\u001b[0;34m.\u001b[0m\u001b[0m_alias_map\u001b[0m\u001b[0;34m)\u001b[0m\u001b[0;34m\u001b[0m\u001b[0;34m\u001b[0m\u001b[0m\n\u001b[0;32m-> 1666\u001b[0;31m         \u001b[0mlines\u001b[0m \u001b[0;34m=\u001b[0m \u001b[0;34m[\u001b[0m\u001b[0;34m*\u001b[0m\u001b[0mself\u001b[0m\u001b[0;34m.\u001b[0m\u001b[0m_get_lines\u001b[0m\u001b[0;34m(\u001b[0m\u001b[0;34m*\u001b[0m\u001b[0margs\u001b[0m\u001b[0;34m,\u001b[0m \u001b[0mdata\u001b[0m\u001b[0;34m=\u001b[0m\u001b[0mdata\u001b[0m\u001b[0;34m,\u001b[0m \u001b[0;34m**\u001b[0m\u001b[0mkwargs\u001b[0m\u001b[0;34m)\u001b[0m\u001b[0;34m]\u001b[0m\u001b[0;34m\u001b[0m\u001b[0;34m\u001b[0m\u001b[0m\n\u001b[0m\u001b[1;32m   1667\u001b[0m         \u001b[0;32mfor\u001b[0m \u001b[0mline\u001b[0m \u001b[0;32min\u001b[0m \u001b[0mlines\u001b[0m\u001b[0;34m:\u001b[0m\u001b[0;34m\u001b[0m\u001b[0;34m\u001b[0m\u001b[0m\n\u001b[1;32m   1668\u001b[0m             \u001b[0mself\u001b[0m\u001b[0;34m.\u001b[0m\u001b[0madd_line\u001b[0m\u001b[0;34m(\u001b[0m\u001b[0mline\u001b[0m\u001b[0;34m)\u001b[0m\u001b[0;34m\u001b[0m\u001b[0;34m\u001b[0m\u001b[0m\n",
      "\u001b[0;32m~/anaconda3/lib/python3.7/site-packages/matplotlib/axes/_base.py\u001b[0m in \u001b[0;36m__call__\u001b[0;34m(self, *args, **kwargs)\u001b[0m\n\u001b[1;32m    223\u001b[0m                 \u001b[0mthis\u001b[0m \u001b[0;34m+=\u001b[0m \u001b[0margs\u001b[0m\u001b[0;34m[\u001b[0m\u001b[0;36m0\u001b[0m\u001b[0;34m]\u001b[0m\u001b[0;34m,\u001b[0m\u001b[0;34m\u001b[0m\u001b[0;34m\u001b[0m\u001b[0m\n\u001b[1;32m    224\u001b[0m                 \u001b[0margs\u001b[0m \u001b[0;34m=\u001b[0m \u001b[0margs\u001b[0m\u001b[0;34m[\u001b[0m\u001b[0;36m1\u001b[0m\u001b[0;34m:\u001b[0m\u001b[0;34m]\u001b[0m\u001b[0;34m\u001b[0m\u001b[0;34m\u001b[0m\u001b[0m\n\u001b[0;32m--> 225\u001b[0;31m             \u001b[0;32myield\u001b[0m \u001b[0;32mfrom\u001b[0m \u001b[0mself\u001b[0m\u001b[0;34m.\u001b[0m\u001b[0m_plot_args\u001b[0m\u001b[0;34m(\u001b[0m\u001b[0mthis\u001b[0m\u001b[0;34m,\u001b[0m \u001b[0mkwargs\u001b[0m\u001b[0;34m)\u001b[0m\u001b[0;34m\u001b[0m\u001b[0;34m\u001b[0m\u001b[0m\n\u001b[0m\u001b[1;32m    226\u001b[0m \u001b[0;34m\u001b[0m\u001b[0m\n\u001b[1;32m    227\u001b[0m     \u001b[0;32mdef\u001b[0m \u001b[0mget_next_color\u001b[0m\u001b[0;34m(\u001b[0m\u001b[0mself\u001b[0m\u001b[0;34m)\u001b[0m\u001b[0;34m:\u001b[0m\u001b[0;34m\u001b[0m\u001b[0;34m\u001b[0m\u001b[0m\n",
      "\u001b[0;32m~/anaconda3/lib/python3.7/site-packages/matplotlib/axes/_base.py\u001b[0m in \u001b[0;36m_plot_args\u001b[0;34m(self, tup, kwargs)\u001b[0m\n\u001b[1;32m    389\u001b[0m             \u001b[0mx\u001b[0m\u001b[0;34m,\u001b[0m \u001b[0my\u001b[0m \u001b[0;34m=\u001b[0m \u001b[0mindex_of\u001b[0m\u001b[0;34m(\u001b[0m\u001b[0mtup\u001b[0m\u001b[0;34m[\u001b[0m\u001b[0;34m-\u001b[0m\u001b[0;36m1\u001b[0m\u001b[0;34m]\u001b[0m\u001b[0;34m)\u001b[0m\u001b[0;34m\u001b[0m\u001b[0;34m\u001b[0m\u001b[0m\n\u001b[1;32m    390\u001b[0m \u001b[0;34m\u001b[0m\u001b[0m\n\u001b[0;32m--> 391\u001b[0;31m         \u001b[0mx\u001b[0m\u001b[0;34m,\u001b[0m \u001b[0my\u001b[0m \u001b[0;34m=\u001b[0m \u001b[0mself\u001b[0m\u001b[0;34m.\u001b[0m\u001b[0m_xy_from_xy\u001b[0m\u001b[0;34m(\u001b[0m\u001b[0mx\u001b[0m\u001b[0;34m,\u001b[0m \u001b[0my\u001b[0m\u001b[0;34m)\u001b[0m\u001b[0;34m\u001b[0m\u001b[0;34m\u001b[0m\u001b[0m\n\u001b[0m\u001b[1;32m    392\u001b[0m \u001b[0;34m\u001b[0m\u001b[0m\n\u001b[1;32m    393\u001b[0m         \u001b[0;32mif\u001b[0m \u001b[0mself\u001b[0m\u001b[0;34m.\u001b[0m\u001b[0mcommand\u001b[0m \u001b[0;34m==\u001b[0m \u001b[0;34m'plot'\u001b[0m\u001b[0;34m:\u001b[0m\u001b[0;34m\u001b[0m\u001b[0;34m\u001b[0m\u001b[0m\n",
      "\u001b[0;32m~/anaconda3/lib/python3.7/site-packages/matplotlib/axes/_base.py\u001b[0m in \u001b[0;36m_xy_from_xy\u001b[0;34m(self, x, y)\u001b[0m\n\u001b[1;32m    268\u001b[0m         \u001b[0;32mif\u001b[0m \u001b[0mx\u001b[0m\u001b[0;34m.\u001b[0m\u001b[0mshape\u001b[0m\u001b[0;34m[\u001b[0m\u001b[0;36m0\u001b[0m\u001b[0;34m]\u001b[0m \u001b[0;34m!=\u001b[0m \u001b[0my\u001b[0m\u001b[0;34m.\u001b[0m\u001b[0mshape\u001b[0m\u001b[0;34m[\u001b[0m\u001b[0;36m0\u001b[0m\u001b[0;34m]\u001b[0m\u001b[0;34m:\u001b[0m\u001b[0;34m\u001b[0m\u001b[0;34m\u001b[0m\u001b[0m\n\u001b[1;32m    269\u001b[0m             raise ValueError(\"x and y must have same first dimension, but \"\n\u001b[0;32m--> 270\u001b[0;31m                              \"have shapes {} and {}\".format(x.shape, y.shape))\n\u001b[0m\u001b[1;32m    271\u001b[0m         \u001b[0;32mif\u001b[0m \u001b[0mx\u001b[0m\u001b[0;34m.\u001b[0m\u001b[0mndim\u001b[0m \u001b[0;34m>\u001b[0m \u001b[0;36m2\u001b[0m \u001b[0;32mor\u001b[0m \u001b[0my\u001b[0m\u001b[0;34m.\u001b[0m\u001b[0mndim\u001b[0m \u001b[0;34m>\u001b[0m \u001b[0;36m2\u001b[0m\u001b[0;34m:\u001b[0m\u001b[0;34m\u001b[0m\u001b[0;34m\u001b[0m\u001b[0m\n\u001b[1;32m    272\u001b[0m             raise ValueError(\"x and y can be no greater than 2-D, but have \"\n",
      "\u001b[0;31mValueError\u001b[0m: x and y must have same first dimension, but have shapes (5,) and (1,)"
     ]
    }
   ],
   "source": [
    "# fig3, ax3 = plt.subplots()\n",
    "\n",
    "# ax3.plot(N, error_to_an, label='compact', c='b')\n",
    "# ax3.plot(N, error_to_an1, label='normal', c='r')\n",
    "# ax3.scatter(N, error_to_an, c='b')\n",
    "# ax3.scatter(N, error_to_an1, c='r')\n",
    "\n",
    "# ax3.plot(N, 1/N**2, label='$N^{-2}$', c='g')\n",
    "# ax3.scatter(N, 1/N**2, c='g')\n",
    "\n",
    "# ax3.set_yscale('log')\n",
    "# ax3.set_xscale('log')\n",
    "\n",
    "# ax3.set_title('Convergence')\n",
    "# ax3.set_xlabel('Number of radial grid points Nr')\n",
    "# ax3.set_ylabel('Relative error to analytical')\n",
    "# ax3.legend()"
   ]
  },
  {
   "cell_type": "code",
   "execution_count": 12,
   "metadata": {},
   "outputs": [
    {
     "output_type": "execute_result",
     "data": {
      "text/plain": "<matplotlib.legend.Legend at 0x7f8081945f10>"
     },
     "metadata": {},
     "execution_count": 12
    }
   ],
   "source": [
    "fig2, ax2 = plt.subplots()\n",
    "\n",
    "levels=20\n",
    "colormap=cm.viridis\n",
    "\n",
    "cont = ax2.contour(r*np.sin(th), r*np.cos(th), u, levels=levels, cmap=colormap)\n",
    "cont_q = ax2.contour(q*np.sin(th), q*np.cos(th), u, levels=levels, cmap=colormap, alpha=0.5)\n",
    "\n",
    "cont1 = ax2.contour(r1*np.sin(th1), r1*np.cos(th1), u1, levels=levels, cmap=colormap, linestyles = 'dashed')\n",
    "\n",
    "# cont2 = ax2.contour(r*np.sin(th), r*np.cos(th), u2, levels=levels, cmap=colormap, linestyles = 'dotted') \n",
    "\n",
    "# cont_c = ax2.contour(r_s**2/q*np.sin(th), r_s**2/q*np.cos(th), u, levels=[uc], colors='red')\n",
    "# cont_c1 = ax2.contour(r*np.sin(th), r*np.cos(th), u1, levels=[uc], colors='green')\n",
    "# cont_c2 = ax2.contour(r*np.sin(th), r*np.cos(th), u2, levels=[uc], colors='yellow')\n",
    "cont_an = ax2.contour(r*np.sin(th), r*np.cos(th), u_an, levels=levels, colors='black', zorder=-1)\n",
    "# cont_an = ax2.contour(r1*np.sin(th1), r1*np.cos(th1), u_an1, levels=levels, cmap=colormap, alpha=0.5)\n",
    "\n",
    "ax2.add_patch(Circle((0.,0.), r_s, color='b', zorder=100, fill=False))\n",
    "\n",
    "fig_lim = 10\n",
    "ax2.set_ylim(top=fig_lim*r_s*np.cos(TH[0])/2, bottom=fig_lim*r_s*np.cos(TH[-1])/2)\n",
    "ax2.set_xlim(left=-0.1, right=fig_lim*r_s)\n",
    "\n",
    "ax2.set_title('Compact Vs. Normal')\n",
    "h,_ = cont.legend_elements()\n",
    "h_q, _ = cont_q.legend_elements()\n",
    "ax2.legend([h[0], h_q[0]], ['normal', 'compact'], loc='best')\n",
    "h1,_ = cont1.legend_elements()\n",
    "# # h2,_ = cont2.legend_elements()\n",
    "h_an,_ = cont_an.legend_elements()\n",
    "ax2.legend([h[0], h1[0], h_an[0], h_q[0]], ['compact', 'normal', 'analytical', 'raw_compact'], loc='best')"
   ]
  },
  {
   "cell_type": "code",
   "execution_count": null,
   "metadata": {},
   "outputs": [],
   "source": []
  }
 ],
 "metadata": {
  "language_info": {
   "codemirror_mode": {
    "name": "ipython",
    "version": 3
   },
   "file_extension": ".py",
   "mimetype": "text/x-python",
   "name": "python",
   "nbconvert_exporter": "python",
   "pygments_lexer": "ipython3",
   "version": "3.7.5-final"
  },
  "orig_nbformat": 2,
  "kernelspec": {
   "name": "python3",
   "display_name": "Python 3"
  }
 },
 "nbformat": 4,
 "nbformat_minor": 2
}