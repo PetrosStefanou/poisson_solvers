{
 "cells": [
  {
   "cell_type": "code",
   "execution_count": 1,
   "metadata": {},
   "outputs": [],
   "source": [
    "import numpy as np\n",
    "import matplotlib.pyplot as plt\n",
    "from mpl_toolkits.mplot3d import Axes3D\n",
    "import numpy.linalg as la\n",
    "import scipy.sparse as sparse\n",
    "from matplotlib import cm\n",
    "import timeit\n",
    "import numba\n",
    "from numba import jit"
   ]
  },
  {
   "cell_type": "code",
   "execution_count": 2,
   "metadata": {},
   "outputs": [],
   "source": [
    "#output settings\n",
    "np.set_printoptions(precision=2)\n",
    "%matplotlib qt "
   ]
  },
  {
   "cell_type": "code",
   "execution_count": 3,
   "metadata": {},
   "outputs": [],
   "source": [
    "def u_analytical(x, y):\n",
    "\n",
    "    uan = np.sin(np.pi*x)*np.sin(np.pi*y)\n",
    "\n",
    "    return uan\n",
    "\n",
    "def source(x, y):\n",
    "\n",
    "    f = -2*np.pi**2*np.sin(np.pi*x)*np.sin(np.pi*y)\n",
    "\n",
    "    return f"
   ]
  },
  {
   "cell_type": "code",
   "execution_count": 4,
   "metadata": {},
   "outputs": [],
   "source": [
    "def sor_iteration(matrix, source, grid, init_guess=None, tolerance=1.e-8, itermax=1000, omega=1.5):\n",
    "\n",
    "    M, f, u0, rtol, kmax, w = matrix, source, init_guess, tolerance, itermax, omega\n",
    "\n",
    "    x, y = grid\n",
    "\n",
    "    Nx, Ny = x.shape[1], y.shape[0]\n",
    "\n",
    "    dx, dy = (x[0, -1] - x[0, 0])/Nx, (y[-1, 0] - y[0, 0])/Ny\n",
    "\n",
    "    if u0 is None:\n",
    "\n",
    "        u0 = np.zeros_like(f)\n",
    "    \n",
    "    u = u0\n",
    "    k = 0\n",
    "    rel_diff = tol + 1\n",
    "    conv_hist = []\n",
    "    while rel_diff > rtol and k < kmax:\n",
    "\n",
    "        u_prev = u.copy()\n",
    "        for j in range(1, Ny-1):\n",
    "            for i in range(1, Nx-1):\n",
    "        #         # if i != j:\n",
    "        #         u[j, i] = ((u[j-1, i] + u[j+1, i])*dx**2 + (u[j, i-1] + u[j, i+1])*dy**2 - dx**2*dy**2*f[j,i])/(2*(dx**2 +                                                                                                                               dy**2))\n",
    "                u[j, i] = (1-omega)*u[j,i] + omega*0.25*(u[j-1, i] + u[j+1, i] + u[j, i-1] + u[j, i+1] - dx**2*f[j, i])\n",
    "\n",
    "        # for j in range(1,Ny-1):\n",
    "        #     for i in range(1, Nx-1):\n",
    "        #         R = (u[j,i-1]+u[j-1,i]+u[j,i+1]+u[j+1,i]-4.0*u[j,i] - dx**2*f[j, i])\n",
    "        #         du = 0.25*R\n",
    "        #         u[j,i]+=du\n",
    "\n",
    "        rel_diff = la.norm(u-u_prev)/la.norm(u_prev)\n",
    "        conv_hist.append(rel_diff)\n",
    "        k += 1\n",
    "\n",
    "    return u, k, rel_diff, conv_hist"
   ]
  },
  {
   "cell_type": "code",
   "execution_count": 5,
   "metadata": {},
   "outputs": [],
   "source": [
    "Nx = 40\n",
    "Ny = 40\n",
    "\n",
    "x_I, x_F = 0, 1\n",
    "y_I, y_F = 0, 1\n",
    "\n",
    "X = np.linspace(x_I, x_F, Nx+1)\n",
    "Y = np.linspace(y_I, y_F, Ny+1)\n",
    "\n",
    "x, y = np.meshgrid(X, Y)"
   ]
  },
  {
   "cell_type": "code",
   "execution_count": 6,
   "metadata": {},
   "outputs": [
    {
     "output_type": "stream",
     "name": "stdout",
     "text": "1.8544977810681016\nNumber of iterations: 2161 \nL2 norm between last two iterations: 9.96e-09 \nTime elapsed: 9.07e+00 s\n"
    }
   ],
   "source": [
    "#Test the solver\n",
    "f = source(x, y)                          #source term\n",
    "u_guess = np.cos(np.pi*x)*np.cos(np.pi*y)             #initial guess\n",
    "itermax = 2000000                            #maximum number of iterations\n",
    "tol = 1e-8                               #desired tolerance\n",
    "omega_opt = 2/(1+np.sin(np.pi/Nx))\n",
    "print(omega_opt)\n",
    "\n",
    "start = timeit.default_timer()            #time the solver\n",
    "\n",
    "u, iternum, rel_diff, conv_hist = sor_iteration(np.eye(Nx), f, (x, y), init_guess=None, \n",
    "                                                itermax=itermax, tolerance=tol, omega=1)       #calculate the solution\n",
    "\n",
    "end = timeit.default_timer()\n",
    "\n",
    "elapsed = (end - start)\n",
    "\n",
    "u_an = u_analytical(x, y)                #analytical solution for comparison\n",
    "\n",
    "if iternum == itermax:\n",
    "\n",
    "    print('WARNING: desired tolerance has not been reached for the given maximum iterations \\n')\n",
    "\n",
    "print('Number of iterations: {} \\n'\n",
    "      'L2 norm between last two iterations: {:1.2e} \\n'\n",
    "      'Time elapsed: {:1.2e} s'.format(iternum, rel_diff, elapsed))"
   ]
  },
  {
   "cell_type": "code",
   "execution_count": 7,
   "metadata": {},
   "outputs": [
    {
     "output_type": "stream",
     "name": "stdout",
     "text": "0.047697710465012144\n"
    }
   ],
   "source": [
    "u_an = u_analytical(x, y)\n",
    "\n",
    "error = la.norm(u - u_an, 2)/la.norm(u_an, 2)\n",
    "\n",
    "print(error)"
   ]
  },
  {
   "cell_type": "code",
   "execution_count": 8,
   "metadata": {},
   "outputs": [],
   "source": [
    "fig = plt.figure()\n",
    "ax = fig.add_subplot(111, projection = '3d')\n",
    "\n",
    "\n",
    "scat = ax.scatter(x, y, u, c = 'r', label = 'numerical', alpha = 1)\n",
    "surf = ax.plot_surface(x, y, u_an, cmap = cm.coolwarm, label = 'analytical', alpha = 0.3)\n",
    "\n",
    "ax.set_xlabel('x')\n",
    "ax.set_ylabel('y')\n",
    "ax.set_title('$u = \\sin\\pi x \\sin\\pi y$')\n",
    "# ax.set_zlim(top=2., bottom=-0.5)\n",
    "\n",
    "surf._facecolors2d=surf._facecolors3d\n",
    "surf._edgecolors2d=surf._edgecolors3d\n",
    "ax.legend(loc = 2)\n",
    "plt.show()"
   ]
  },
  {
   "cell_type": "code",
   "execution_count": null,
   "metadata": {},
   "outputs": [],
   "source": []
  }
 ],
 "metadata": {
  "language_info": {
   "codemirror_mode": {
    "name": "ipython",
    "version": 3
   },
   "file_extension": ".py",
   "mimetype": "text/x-python",
   "name": "python",
   "nbconvert_exporter": "python",
   "pygments_lexer": "ipython3",
   "version": "3.7.5-final"
  },
  "orig_nbformat": 2,
  "kernelspec": {
   "name": "python3",
   "display_name": "Python 3"
  }
 },
 "nbformat": 4,
 "nbformat_minor": 2
}