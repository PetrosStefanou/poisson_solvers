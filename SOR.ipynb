{
 "cells": [
  {
   "cell_type": "code",
   "execution_count": 1,
   "metadata": {},
   "outputs": [],
   "source": [
    "import numpy as np\n",
    "import matplotlib.pyplot as plt\n",
    "from mpl_toolkits.mplot3d import Axes3D\n",
    "import numpy.linalg as la\n",
    "import scipy.sparse as sparse\n",
    "from matplotlib import cm\n",
    "import timeit\n",
    "import numba\n",
    "from numba import jit"
   ]
  },
  {
   "cell_type": "code",
   "execution_count": 2,
   "metadata": {},
   "outputs": [],
   "source": [
    "#output settings\n",
    "np.set_printoptions(precision=2)\n",
    "%matplotlib qt "
   ]
  },
  {
   "cell_type": "code",
   "execution_count": 3,
   "metadata": {},
   "outputs": [],
   "source": [
    "def u_analytical(x, y):\n",
    "\n",
    "    uan = np.sin(np.pi*x)*np.sin(np.pi*y) + x\n",
    "\n",
    "    return uan\n",
    "\n",
    "def source(x, y):\n",
    "\n",
    "    f = -2*np.pi**2*np.sin(np.pi*x)*np.sin(np.pi*y)\n",
    "\n",
    "    return f"
   ]
  },
  {
   "cell_type": "code",
   "execution_count": 4,
   "metadata": {},
   "outputs": [],
   "source": [
    "@jit(nopython=True)\n",
    "def sor_iteration(matrix, source, grid, init_guess=None, boundary=((0, 0), (0,0)), tolerance=1.e-8, itermax=1000, omega=1.5):\n",
    "\n",
    "    M, f, u0, B, tol, kmax, w = matrix, source, init_guess, boundary, tolerance, itermax, omega\n",
    "\n",
    "    x, y = grid\n",
    "\n",
    "    Nx, Ny = x.shape[1]-1, y.shape[0]-1\n",
    "\n",
    "    dx, dy = (x[0, -1] - x[0, 0])/Nx, (y[-1, 0] - y[0, 0])/Ny\n",
    "\n",
    "    if init_guess is None:\n",
    "\n",
    "        u0 = np.ones_like(f)\n",
    "\n",
    "    #assign dirichlet boundary conditions\n",
    "    u0[:, 0] = B[0][0]                               \n",
    "    u0[:, -1] = B[0][1]\n",
    "    u0[0, :] = B[1][0]\n",
    "    u0[-1, :] = B[1][1]\n",
    "    \n",
    "    u = u0\n",
    "    k = 0\n",
    "    rel_diff = tol + 1\n",
    "    conv_hist = []\n",
    "       \n",
    "    #iteration loop using nested loops.\n",
    "    while  k < kmax and rel_diff > tol:\n",
    "\n",
    "        u_next = u.copy()\n",
    "\n",
    "        for j in range(1, Ny):\n",
    "            for i in range(1, Nx):\n",
    "                \n",
    "                u_next[j, i] = (1-omega)*u[j,i] + omega*((u_next[j, i-1] + u[j, i+1])*dy**2 + \n",
    "                                (u_next[j-1, i] + u[j+1, i])*dx**2 - f[j,i]*dx**2*dy**2)/(2*(dx**2+dy**2))\n",
    "        \n",
    "        \n",
    "\n",
    "        rel_diff = la.norm(u_next-u)/la.norm(u)\n",
    "        conv_hist.append(rel_diff)\n",
    "        u = u_next\n",
    "        k += 1\n",
    "\n",
    "    return u, k, rel_diff, conv_hist"
   ]
  },
  {
   "cell_type": "code",
   "execution_count": 5,
   "metadata": {},
   "outputs": [],
   "source": [
    "Nx = 40\n",
    "Ny = 40\n",
    "\n",
    "x_I, x_F = 0, 1\n",
    "y_I, y_F = 0, 1\n",
    "\n",
    "X = np.linspace(x_I, x_F, Nx+1)\n",
    "Y = np.linspace(y_I, y_F, Ny+1)\n",
    "\n",
    "x, y = np.meshgrid(X, Y)"
   ]
  },
  {
   "cell_type": "code",
   "execution_count": 6,
   "metadata": {},
   "outputs": [],
   "source": [
    "#Set up the solver parameters\n",
    "\n",
    "f = source(x, y)                                          #source term\n",
    "\n",
    "u_guess = np.sin(2*np.pi*x)*np.sin(2*np.pi*y)             #initial guess\n",
    "\n",
    "itermax = 2000000                                         #maximum number of iterations\n",
    "\n",
    "tol = 1e-8                                                #desired tolerance\n",
    "\n",
    "omega = 1.5  #2/(1+np.sin(np.pi/Nx))\n",
    "\n",
    "boundary = ((0,1), (X, X))                                #dirichlet boundary conditions\n",
    "# print(omega_opt)"
   ]
  },
  {
   "cell_type": "code",
   "execution_count": null,
   "metadata": {},
   "outputs": [],
   "source": []
  },
  {
   "cell_type": "code",
   "execution_count": 7,
   "metadata": {},
   "outputs": [
    {
     "output_type": "stream",
     "name": "stdout",
     "text": "Omega = 1.50E+00Number of iterations: 665 \nLast relative difference: 9.8448e-09 \nTime elapsed: 2.37e+00 s\n"
    }
   ],
   "source": [
    "#Test the solver\n",
    "\n",
    "\n",
    "start = timeit.default_timer()            #time the solver\n",
    "\n",
    "u, iternum, rel_diff, conv_hist = sor_iteration(np.eye(Nx), f, (x, y), init_guess=None, \n",
    "                                                boundary=boundary, tolerance=tol, itermax=itermax, omega=omega)       #calculate the solution\n",
    "\n",
    "end = timeit.default_timer()\n",
    "\n",
    "elapsed = (end - start)\n",
    "\n",
    "u_an = u_analytical(x, y)                #analytical solution for comparison\n",
    "\n",
    "if iternum == itermax:\n",
    "\n",
    "    print('WARNING: desired tolerance has not been reached for the given maximum iterations \\n')\n",
    "\n",
    "print('Omega = {:1.2E}'\n",
    "      'Number of iterations: {} \\n'\n",
    "      'Last relative difference: {:1.4e} \\n'\n",
    "      'Time elapsed: {:1.2e} s'.format(omega, iternum, rel_diff, elapsed))"
   ]
  },
  {
   "cell_type": "code",
   "execution_count": 8,
   "metadata": {},
   "outputs": [
    {
     "output_type": "stream",
     "name": "stdout",
     "text": "0.00025635664449666536\n"
    }
   ],
   "source": [
    "u_an = u_analytical(x, y)\n",
    "\n",
    "error = la.norm(u - u_an, 2)/la.norm(u_an, 2)\n",
    "\n",
    "print(error)"
   ]
  },
  {
   "cell_type": "code",
   "execution_count": 9,
   "metadata": {},
   "outputs": [],
   "source": [
    "fig = plt.figure()\n",
    "ax = fig.add_subplot(111, projection = '3d')\n",
    "\n",
    "\n",
    "scat = ax.scatter(x, y, u, c = 'r', label = 'numerical', alpha = 1)\n",
    "surf = ax.plot_surface(x, y, u_an, cmap = cm.coolwarm, label = 'analytical', alpha = 0.3)\n",
    "\n",
    "ax.set_xlabel('x')\n",
    "ax.set_ylabel('y')\n",
    "ax.set_title('$u = \\sin\\pi x \\sin\\pi y + x$')\n",
    "# ax.set_zlim(top=2., bottom=-0.5)\n",
    "\n",
    "surf._facecolors2d=surf._facecolors3d\n",
    "surf._edgecolors2d=surf._edgecolors3d\n",
    "ax.legend(loc = 2)\n",
    "plt.show()"
   ]
  },
  {
   "cell_type": "code",
   "execution_count": 12,
   "metadata": {},
   "outputs": [
    {
     "output_type": "error",
     "ename": "TypeError",
     "evalue": "numpy_jacobi() missing 3 required positional arguments: 'matrix', 'source', and 'grid'",
     "traceback": [
      "\u001b[0;31m---------------------------------------------------------------------------\u001b[0m",
      "\u001b[0;31mTypeError\u001b[0m                                 Traceback (most recent call last)",
      "\u001b[0;32m<ipython-input-12-fa050110f9a3>\u001b[0m in \u001b[0;36m<module>\u001b[0;34m\u001b[0m\n\u001b[1;32m      1\u001b[0m \u001b[0;32mimport\u001b[0m \u001b[0miteration_methods\u001b[0m\u001b[0;34m\u001b[0m\u001b[0;34m\u001b[0m\u001b[0m\n\u001b[0;32m----> 2\u001b[0;31m \u001b[0ma\u001b[0m\u001b[0;34m,\u001b[0m\u001b[0mb\u001b[0m\u001b[0;34m,\u001b[0m\u001b[0mc\u001b[0m\u001b[0;34m,\u001b[0m\u001b[0md\u001b[0m \u001b[0;34m=\u001b[0m \u001b[0miteration_methods\u001b[0m\u001b[0;34m.\u001b[0m\u001b[0mnumpy_jacobi\u001b[0m\u001b[0;34m(\u001b[0m\u001b[0;34m)\u001b[0m\u001b[0;34m\u001b[0m\u001b[0;34m\u001b[0m\u001b[0m\n\u001b[0m",
      "\u001b[0;31mTypeError\u001b[0m: numpy_jacobi() missing 3 required positional arguments: 'matrix', 'source', and 'grid'"
     ]
    }
   ],
   "source": []
  },
  {
   "cell_type": "code",
   "execution_count": null,
   "metadata": {},
   "outputs": [],
   "source": []
  }
 ],
 "metadata": {
  "language_info": {
   "codemirror_mode": {
    "name": "ipython",
    "version": 3
   },
   "file_extension": ".py",
   "mimetype": "text/x-python",
   "name": "python",
   "nbconvert_exporter": "python",
   "pygments_lexer": "ipython3",
   "version": "3.7.5-final"
  },
  "orig_nbformat": 2,
  "kernelspec": {
   "name": "python3",
   "display_name": "Python 3"
  }
 },
 "nbformat": 4,
 "nbformat_minor": 2
}