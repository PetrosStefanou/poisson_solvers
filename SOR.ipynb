{
 "cells": [
  {
   "cell_type": "code",
   "execution_count": 1,
   "metadata": {},
   "outputs": [],
   "source": [
    "import numpy as np\n",
    "import numpy.linalg as la\n",
    "# import scipy.sparse as sparse\n",
    "\n",
    "import matplotlib.pyplot as plt\n",
    "from mpl_toolkits.mplot3d import Axes3D\n",
    "from matplotlib import cm\n",
    "\n",
    "import timeit\n",
    "import numba\n",
    "from numba import jit\n",
    "\n",
    "from iteration_methods import*\n",
    "from basic import*"
   ]
  },
  {
   "cell_type": "code",
   "execution_count": 2,
   "metadata": {},
   "outputs": [],
   "source": [
    "#output settings\n",
    "np.set_printoptions(precision=2)\n",
    "%matplotlib qt "
   ]
  },
  {
   "cell_type": "code",
   "execution_count": 4,
   "metadata": {},
   "outputs": [],
   "source": [
    "@jit(nopython=True)\n",
    "def sor_iteration(matrix, source, grid, init_guess=None, boundary=((0, 0), (0,0)), tolerance=1.e-8, itermax=1000, omega=1.5):\n",
    "\n",
    "    M, f, u0, B, tol, kmax, w = matrix, source, init_guess, boundary, tolerance, itermax, omega\n",
    "\n",
    "    x, y = grid\n",
    "\n",
    "    Nx, Ny = x.shape[1]-1, y.shape[0]-1\n",
    "\n",
    "    dx, dy = (x[0, -1] - x[0, 0])/Nx, (y[-1, 0] - y[0, 0])/Ny\n",
    "\n",
    "    if init_guess is None:\n",
    "\n",
    "        u0 = np.ones_like(f)\n",
    "\n",
    "    #assign dirichlet boundary conditions\n",
    "    u0[:, 0] = B[0][0]                               \n",
    "    u0[:, -1] = B[0][1]\n",
    "    u0[0, :] = B[1][0]\n",
    "    u0[-1, :] = B[1][1]\n",
    "    \n",
    "    u = u0\n",
    "    k = 0\n",
    "    rel_diff = tol + 1\n",
    "    conv_hist = []\n",
    "       \n",
    "    #iteration loop using nested loops.\n",
    "    while  k < kmax and rel_diff > tol:\n",
    "\n",
    "        u_next = u.copy()\n",
    "\n",
    "        for j in range(1, Ny):\n",
    "            for i in range(1, Nx):\n",
    "                \n",
    "                u_next[j, i] = (1-omega)*u[j,i] + omega*((u_next[j, i-1] + u[j, i+1])*dy**2 + \n",
    "                                (u_next[j-1, i] + u[j+1, i])*dx**2 - f[j,i]*dx**2*dy**2)/(2*(dx**2+dy**2))\n",
    "        \n",
    "        \n",
    "\n",
    "        rel_diff = la.norm(u_next-u)/la.norm(u)\n",
    "        conv_hist.append(rel_diff)\n",
    "        u = u_next\n",
    "        k += 1\n",
    "\n",
    "    return u, k, rel_diff, conv_hist"
   ]
  },
  {
   "cell_type": "code",
   "execution_count": 5,
   "metadata": {},
   "outputs": [],
   "source": [
    "Nx = 50\n",
    "Ny = 20\n",
    "\n",
    "x_I, x_F = 0, 1\n",
    "y_I, y_F = 0, 1\n",
    "\n",
    "X = np.linspace(x_I, x_F, Nx+1)\n",
    "Y = np.linspace(y_I, y_F, Ny+1)\n",
    "\n",
    "dx = (x_F-x_I)/(Nx+1)\n",
    "dy = (y_F-y_I)/(Ny+1)\n",
    "\n",
    "x, y = np.meshgrid(X, Y)"
   ]
  },
  {
   "cell_type": "code",
   "execution_count": 6,
   "metadata": {},
   "outputs": [],
   "source": [
    "#Set up the solver parameters\n",
    "\n",
    "X, Y, x, y, dx, dy = grid()                             #The grid of the problem\n",
    "\n",
    "f = source(x, y)                                        #source term\n",
    "\n",
    "u_guess = np.sin(np.pi*x/2)*np.cos(np.pi*y)             #initial guess\n",
    "\n",
    "itermax = 20000                                         #maximum number of iterations\n",
    "\n",
    "tol = 1e-8                                              #desired tolerance\n",
    "\n",
    "omega = 1.5  #2/(1+np.sin(np.pi/Nx))\n",
    "\n",
    "boundary = ((0,1), (X, X))                              #dirichlet boundary conditions\n",
    "# print(omega_opt)"
   ]
  },
  {
   "cell_type": "code",
   "execution_count": null,
   "metadata": {},
   "outputs": [],
   "source": []
  },
  {
   "cell_type": "code",
   "execution_count": 7,
   "metadata": {},
   "outputs": [
    {
     "output_type": "stream",
     "name": "stdout",
     "text": "Omega = 1.5000 \nNumber of iterations: 705 \nLast relative difference: 9.8575e-09 \nError to analytical: 5.9420E-04 \nTime elapsed: 1.95e+00 s\n--------------------------------------------------\nOmega = 1.8900 \nNumber of iterations: 171 \nLast relative difference: 8.6538e-09 \nError to analytical: 5.9466E-04 \nTime elapsed: 2.90e-03 s\n--------------------------------------------------\nOmega = 1.8840 \nNumber of iterations: 157 \nLast relative difference: 9.8780e-09 \nError to analytical: 5.9468E-04 \nTime elapsed: 3.10e-03 s\n--------------------------------------------------\nOmega = 1.7406 \nNumber of iterations: 318 \nLast relative difference: 9.8123e-09 \nError to analytical: 5.9448E-04 \nTime elapsed: 4.84e-03 s\n--------------------------------------------------\n"
    }
   ],
   "source": [
    "#Test the solver\n",
    "omega_opt_x = 2/(1+np.sin(np.pi*dx))\n",
    "omega_opt_y = 2/(1+np.sin(np.pi*dy))\n",
    "\n",
    "omega=np.linspace(1.8, 2, 20)\n",
    "omega = [1.5, 1.89, omega_opt_x, omega_opt_y, 1]\n",
    "\n",
    "l_iternum = []\n",
    "l_elapsed = []\n",
    "l_rel_diff = []\n",
    "l_error = []\n",
    "l_u = []\n",
    "\n",
    "for i in range(len(omega)-1):\n",
    "    \n",
    "    #calculate the solution    \n",
    "    start = timeit.default_timer()            #time the solver\n",
    "\n",
    "    u, iternum, rel_diff, conv_hist = sor_iteration(np.eye(Nx), f, (x, y), init_guess=u_guess, \n",
    "                                                    boundary=boundary, tolerance=tol, itermax=itermax, omega=omega[i])       \n",
    "\n",
    "    end = timeit.default_timer()\n",
    "\n",
    "    elapsed = (end - start)\n",
    "\n",
    "    u_an = u_analytical(x, y)                #analytical solution for comparison\n",
    "\n",
    "    error = la.norm(u - u_an, 2)/la.norm(u_an, 2)\n",
    "\n",
    "    #Keep results in lists for processing\n",
    "    l_iternum.append(iternum)\n",
    "    l_rel_diff.append(rel_diff)\n",
    "    l_elapsed.append(elapsed)\n",
    "    l_error.append(error)\n",
    "    l_u.append(u)\n",
    "    if iternum == itermax:\n",
    "\n",
    "        print('WARNING: desired tolerance has not been reached for the given maximum iterations \\n')\n",
    "\n",
    "    print('Omega = {:1.4f} \\n'\n",
    "        'Number of iterations: {} \\n'\n",
    "        'Last relative difference: {:1.4e} \\n'\n",
    "        'Error to analytical: {:1.4E} \\n'\n",
    "        'Time elapsed: {:1.2e} s'.format(omega[i], iternum, rel_diff, error, elapsed))\n",
    "    print('-'*50)\n",
    "\n",
    "    "
   ]
  },
  {
   "cell_type": "code",
   "execution_count": 8,
   "metadata": {},
   "outputs": [
    {
     "output_type": "execute_result",
     "data": {
      "text/plain": "Text(0, 0.5, 'number of iterations')"
     },
     "metadata": {},
     "execution_count": 8
    }
   ],
   "source": [
    "fig, (ax1, ax2) = plt.subplots(2)\n",
    "\n",
    "ax1.plot(omega[:-1], np.array(l_elapsed))\n",
    "ax1.set_xlabel('omega')\n",
    "ax1.set_ylabel('elapsed time')\n",
    "\n",
    "ax2.plot(omega[:-1], np.array(l_iternum), c='r')\n",
    "ax2.set_xlabel('omega')\n",
    "ax2.set_ylabel('number of iterations')"
   ]
  },
  {
   "cell_type": "code",
   "execution_count": 9,
   "metadata": {},
   "outputs": [],
   "source": [
    "fig = plt.figure()\n",
    "ax = fig.add_subplot(111, projection = '3d')\n",
    "\n",
    "\n",
    "scat = ax.scatter(x, y, l_u[-1], c = 'r', label = 'numerical', alpha = 1)\n",
    "surf = ax.plot_surface(x, y, u_an, cmap = cm.coolwarm, label = 'analytical', alpha = 0.3)\n",
    "\n",
    "ax.set_xlabel('x')\n",
    "ax.set_ylabel('y')\n",
    "ax.set_title('$u = \\sin\\pi x \\sin\\pi y + x$')\n",
    "# ax.set_zlim(top=2., bottom=-0.5)\n",
    "\n",
    "surf._facecolors2d=surf._facecolors3d\n",
    "surf._edgecolors2d=surf._edgecolors3d\n",
    "ax.legend(loc = 2)\n",
    "plt.show()"
   ]
  },
  {
   "cell_type": "code",
   "execution_count": null,
   "metadata": {},
   "outputs": [],
   "source": []
  },
  {
   "cell_type": "code",
   "execution_count": null,
   "metadata": {},
   "outputs": [],
   "source": []
  }
 ],
 "metadata": {
  "language_info": {
   "codemirror_mode": {
    "name": "ipython",
    "version": 3
   },
   "file_extension": ".py",
   "mimetype": "text/x-python",
   "name": "python",
   "nbconvert_exporter": "python",
   "pygments_lexer": "ipython3",
   "version": "3.7.5-final"
  },
  "orig_nbformat": 2,
  "kernelspec": {
   "name": "python3",
   "display_name": "Python 3"
  }
 },
 "nbformat": 4,
 "nbformat_minor": 2
}