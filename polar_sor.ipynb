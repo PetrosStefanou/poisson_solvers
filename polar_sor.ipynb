{
 "cells": [
  {
   "cell_type": "code",
   "execution_count": 1,
   "metadata": {},
   "outputs": [],
   "source": [
    "import numpy as np\n",
    "import numpy.linalg as la\n",
    "# import scipy.sparse as sparse\n",
    "\n",
    "import matplotlib.pyplot as plt\n",
    "from mpl_toolkits.mplot3d import Axes3D\n",
    "from matplotlib import cm\n",
    "\n",
    "import timeit\n",
    "import numba\n",
    "from numba import jit\n",
    "\n",
    "from iteration_methods import*\n",
    "from basic import*"
   ]
  },
  {
   "cell_type": "code",
   "execution_count": 2,
   "metadata": {},
   "outputs": [],
   "source": [
    "#output settings\n",
    "np.set_printoptions(precision=2)\n",
    "%matplotlib qt "
   ]
  },
  {
   "cell_type": "code",
   "execution_count": 3,
   "metadata": {},
   "outputs": [],
   "source": [
    "def SOR_polar(matrix, source, grid, init_guess=None, boundary=((0, 0), (0,0)), tolerance=1.e-8, itermax=1000, omega=1.5):\n",
    "\n",
    "    M, f, u0, B, tol, kmax = matrix, source, init_guess, boundary, tolerance, itermax\n",
    "\n",
    "    r, th = grid\n",
    "\n",
    "    Nr, Nth = r.shape[1]-1, th.shape[0]-1\n",
    "\n",
    "    dr, dth = (r[0, -1] - r[0, 0])/Nr, (th[-1, 0] - th[0, 0])/Nth\n",
    "\n",
    "    if init_guess is None:\n",
    "\n",
    "        u0 = np.ones_like(f)\n",
    "\n",
    "    #assign dirichlet boundary conditions\n",
    "    u0[:, 0] = B[0][0]                               \n",
    "    u0[:, -1] = B[0][1]\n",
    "    u0[0, :] = B[1][0]\n",
    "    u0[-1, :] = B[1][1]\n",
    "    \n",
    "    u = u0\n",
    "    k = 0\n",
    "    rel_diff = tol + 1\n",
    "    conv_hist = []\n",
    "\n",
    "\n",
    "    #iteration loop using nested loops.\n",
    "    while  k < kmax and rel_diff > tol:\n",
    "\n",
    "        u_next = u.copy()\n",
    "\n",
    "        for j in range(1, Nth):\n",
    "            for i in range(1, Nr):\n",
    "                \n",
    "                u_next[j, i] = (1-omega)*u[j,i] + omega*((u_next[j, i-1] + u[j, i+1])*(r[i]*dth**2(dr/2+1)) + \n",
    "                                (u_next[j-1, i] + u[j+1, i])*dr**2 - f[j,i]*dr**2*dth**2*r[i]**2)/(2*(dr**2+r[i]**2*dth**2))\n",
    "        \n",
    "        \n",
    "\n",
    "        rel_diff = la.norm(u_next-u)/la.norm(u)\n",
    "        \n",
    "        conv_hist.append(rel_diff)\n",
    "        \n",
    "        u = u_next\n",
    "        k += 1\n",
    "\n",
    "    return u, k, rel_diff, conv_hist"
   ]
  },
  {
   "cell_type": "code",
   "execution_count": 4,
   "metadata": {},
   "outputs": [],
   "source": [
    "#Setup the parameters for the solver. Functions grid(), source() are in the basic.py module\n",
    "\n",
    "R, TH, r, th, dr, dth = polar_grid(th_I=-np.pi, th_F=np.pi)                     #The grid of the problem\n",
    "\n",
    "f = source(r, th)                                #source term\n",
    "\n",
    "u_guess = np.cos(np.pi*th)*np.cos(np.pi*th)       #initial guess\n",
    "\n",
    "boundary = ((0,1), (R, R))                      #dirichlet boundary conditions\n",
    "\n",
    "\n",
    "iterations = 20000                              #max number of iteration\n",
    "tolerance = 1.e-6                               #desired tolerance\n",
    "\n",
    "omega_opt = 2/(1+np.sin(np.pi*max(dr, dth)))     #relaxation parameter for SOR method\n",
    "\n",
    "u_an = u_analytical(r, th)                       #analytical solution for comparison"
   ]
  },
  {
   "cell_type": "code",
   "execution_count": 5,
   "metadata": {},
   "outputs": [],
   "source": [
    "SOR = jit(nopython=True)(SOR)"
   ]
  },
  {
   "cell_type": "code",
   "execution_count": 6,
   "metadata": {},
   "outputs": [
    {
     "output_type": "stream",
     "name": "stdout",
     "text": "SOR solver \nNumber of iterations: 1176 \nLast Relative difference: 9.949E-07\nError to analytical: 1.049E-01s \nElapsed time: 2.29E+00s \n--------------------------------------------------\n"
    }
   ],
   "source": [
    "#Calculate the results, time them and print output\n",
    "\n",
    "start = timeit.default_timer()\n",
    "\n",
    "u, k, rel_diff, conv_hist = SOR(np.eye(99), f, (r, th), init_guess=u_guess, boundary=boundary,                                                                         tolerance=tolerance, itermax=iterations, omega=omega_opt)\n",
    "\n",
    "elapsed = timeit.default_timer() - start\n",
    "\n",
    "error_to_an = la.norm(u - u_an, 2)/la.norm(u_an, 2)\n",
    "\n",
    "print('SOR solver \\nNumber of iterations: {:} \\nLast Relative difference: {:1.3E}' \n",
    "      '\\nError to analytical: {:1.3E}s \\nElapsed time: {:1.2E}s '.format(k, rel_diff, error_to_an, elapsed))\n",
    "print('-'*50)"
   ]
  },
  {
   "cell_type": "code",
   "execution_count": 7,
   "metadata": {},
   "outputs": [],
   "source": [
    "#Plot results. Function plot is in basic.py module.\n",
    "plot(r*np.cos(th), r*np.sin(th), u, u_an=u_an, conv_hist=conv_hist)"
   ]
  },
  {
   "cell_type": "code",
   "execution_count": null,
   "metadata": {},
   "outputs": [],
   "source": []
  }
 ],
 "metadata": {
  "language_info": {
   "codemirror_mode": {
    "name": "ipython",
    "version": 3
   },
   "file_extension": ".py",
   "mimetype": "text/x-python",
   "name": "python",
   "nbconvert_exporter": "python",
   "pygments_lexer": "ipython3",
   "version": "3.7.5-final"
  },
  "orig_nbformat": 2,
  "kernelspec": {
   "name": "python3",
   "display_name": "Python 3"
  }
 },
 "nbformat": 4,
 "nbformat_minor": 2
}