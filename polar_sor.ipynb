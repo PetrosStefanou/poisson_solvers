{
 "cells": [
  {
   "cell_type": "code",
   "execution_count": 1,
   "metadata": {},
   "outputs": [],
   "source": [
    "import numpy as np\n",
    "import numpy.linalg as la\n",
    "# import scipy.sparse as sparse\n",
    "\n",
    "import matplotlib.pyplot as plt\n",
    "from mpl_toolkits.mplot3d import Axes3D\n",
    "from matplotlib import cm\n",
    "\n",
    "import timeit\n",
    "import numba\n",
    "from numba import jit\n",
    "\n",
    "from iteration_methods import*\n",
    "from basic import*"
   ]
  },
  {
   "cell_type": "code",
   "execution_count": 2,
   "metadata": {},
   "outputs": [],
   "source": [
    "#output settings\n",
    "np.set_printoptions(precision=2)\n",
    "%matplotlib qt "
   ]
  },
  {
   "cell_type": "code",
   "execution_count": 3,
   "metadata": {},
   "outputs": [],
   "source": [
    "def u_analytical(r, th):\n",
    "\n",
    "    # uan = np.sin(np.pi*r*np.cos(th))*np.sin(np.pi*r*np.sin(th)) + r*np.cos(th)\n",
    "\n",
    "    # uan = (r+1)**(-1/3) + np.log(r+1) - np.cos(th) + np.exp(r*th)\n",
    "\n",
    "    uan = r**3 + np.exp(th)\n",
    "\n",
    "    return uan\n",
    "\n",
    "#-------------------------------------------------------\n",
    "#The source term of the equation\n",
    "def source(x, y):\n",
    "\n",
    "    # f = -2*np.pi**2*np.sin(np.pi*r*np.cos(th))*np.sin(np.pi*r*np.sin(th))\n",
    "\n",
    "    # f = 4/9*(r+1)**(-7/3) - 1/(r+1)**2 + th**2*np.exp(r*th) + np.cos(th) + r**2*np.exp(r*th)\n",
    "\n",
    "    f = 6*r + np.exp(th)\n",
    "\n",
    "    return f"
   ]
  },
  {
   "cell_type": "code",
   "execution_count": 4,
   "metadata": {},
   "outputs": [],
   "source": []
  },
  {
   "cell_type": "code",
   "execution_count": 4,
   "metadata": {},
   "outputs": [],
   "source": [
    "#Setup the parameters for the solver. Functions grid(), source() are in the basic.py module\n",
    "\n",
    "R, TH, r, th, dr, dth = polar_grid(th_I=-np.pi, th_F=np.pi)                     #The grid of the problem\n",
    "\n",
    "f = source(r, th)                                #source term\n",
    "\n",
    "u_an = u_analytical(r, th)                       #analytical solution for comparison\n",
    "\n",
    "u_guess = r**(-1/3) + np.log(2*r+1) - np.cos(th**2) + 5*np.exp(r*th+3)       #initial guess\n",
    "\n",
    "# boundary = ((0,np.sin(np.pi*np.cos(TH))*np.sin(np.pi*np.sin(TH))+np.cos(TH)), (-R, -R))              #dirichlet boundary conditions\n",
    "boundary = ((u_an[:,0], u_an[:,-1]), (u_an[0,:], u_an[-1,:]))\n",
    "\n",
    "iterations = 20000                              #max number of iteration\n",
    "tolerance = 1.e-6                               #desired tolerance\n",
    "\n",
    "omega_opt = 2/(1+np.sin(np.pi*max(dr, dth)))     #relaxation parameter for SOR method"
   ]
  },
  {
   "cell_type": "code",
   "execution_count": 5,
   "metadata": {},
   "outputs": [],
   "source": [
    "SOR_polar = jit(nopython=True)(SOR_polar)"
   ]
  },
  {
   "cell_type": "code",
   "execution_count": 6,
   "metadata": {
    "tags": [
     "outputPrepend",
     "outputPrepend",
     "outputPrepend",
     "outputPrepend",
     "outputPrepend",
     "outputPrepend",
     "outputPrepend",
     "outputPrepend",
     "outputPrepend",
     "outputPrepend",
     "outputPrepend",
     "outputPrepend",
     "outputPrepend",
     "outputPrepend",
     "outputPrepend",
     "outputPrepend",
     "outputPrepend",
     "outputPrepend",
     "outputPrepend",
     "outputPrepend",
     "outputPrepend",
     "outputPrepend",
     "outputPrepend",
     "outputPrepend"
    ]
   },
   "outputs": [
    {
     "output_type": "stream",
     "name": "stdout",
     "text": "SOR solver \nNumber of iterations: 2745 \nLast Relative difference: 9.986E-07\nError to analytical: 4.489E-01s \nElapsed time: 2.39E+00s \n--------------------------------------------------\n"
    }
   ],
   "source": [
    "#Calculate the results, time them and print output\n",
    "\n",
    "start = timeit.default_timer()\n",
    "\n",
    "u, k, rel_diff, conv_hist = SOR_polar(np.eye(99), f, (r, th), init_guess=u_guess, boundary=boundary,                                                                         tolerance=tolerance, itermax=iterations, omega=omega_opt)\n",
    "\n",
    "elapsed = timeit.default_timer() - start\n",
    "\n",
    "error_to_an = la.norm(u - u_an, 2)/la.norm(u_an, 2)\n",
    "\n",
    "print('SOR solver \\nNumber of iterations: {:} \\nLast Relative difference: {:1.3E}' \n",
    "      '\\nError to analytical: {:1.3E}s \\nElapsed time: {:1.2E}s '.format(k, rel_diff, error_to_an, elapsed))\n",
    "print('-'*50)"
   ]
  },
  {
   "cell_type": "code",
   "execution_count": 7,
   "metadata": {},
   "outputs": [],
   "source": [
    "#Plot results. Function plot is in basic.py module.\n",
    "plot(r*np.cos(th), r*np.sin(th), u, u_an=u_an, conv_hist=conv_hist)\n"
   ]
  },
  {
   "cell_type": "code",
   "execution_count": 8,
   "metadata": {},
   "outputs": [
    {
     "output_type": "stream",
     "name": "stdout",
     "text": "True\n"
    }
   ],
   "source": []
  },
  {
   "cell_type": "code",
   "execution_count": null,
   "metadata": {},
   "outputs": [],
   "source": []
  }
 ],
 "metadata": {
  "language_info": {
   "codemirror_mode": {
    "name": "ipython",
    "version": 3
   },
   "file_extension": ".py",
   "mimetype": "text/x-python",
   "name": "python",
   "nbconvert_exporter": "python",
   "pygments_lexer": "ipython3",
   "version": "3.7.5-final"
  },
  "orig_nbformat": 2,
  "kernelspec": {
   "name": "python3",
   "display_name": "Python 3"
  }
 },
 "nbformat": 4,
 "nbformat_minor": 2
}