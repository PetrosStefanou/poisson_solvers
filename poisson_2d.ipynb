{
 "cells": [
  {
   "cell_type": "code",
   "execution_count": 1,
   "metadata": {},
   "outputs": [],
   "source": [
    "import numpy as np\n",
    "import matplotlib.pyplot as plt\n",
    "from mpl_toolkits.mplot3d import Axes3D\n",
    "import scipy.linalg as la\n",
    "import scipy.sparse as sparse"
   ]
  },
  {
   "cell_type": "code",
   "execution_count": 2,
   "metadata": {},
   "outputs": [],
   "source": [
    "np.set_printoptions(precision=2)"
   ]
  },
  {
   "cell_type": "code",
   "execution_count": 3,
   "metadata": {},
   "outputs": [],
   "source": [
    "#Create grid\n",
    "\n",
    "Nx = 20                              #dimensions\n",
    "Ny = 30\n",
    "\n",
    "x_I, x_F = 0, np.pi                  #boundary points\n",
    "y_I, y_F = 0, np.pi\n",
    "\n",
    "dx = (x_F - x_I)/Nx                  #step sizes\n",
    "dy = (y_F - y_I)/Ny\n",
    "step_rat = dx**2/dy**2\n",
    "\n",
    "X = np.linspace(x_I, x_F, Nx+1)      #grid\n",
    "Y = np.linspace(y_I, y_F, Ny+1)\n",
    "\n",
    "x, y = np.meshgrid(X,Y)              #2D grid\n",
    "\n",
    "\n"
   ]
  },
  {
   "cell_type": "code",
   "execution_count": 4,
   "metadata": {},
   "outputs": [],
   "source": [
    "#Create penta-diagonal matrix of 2D finite difference discretisation\n",
    "d1 = step_rat*np.ones((Nx-1)*(Ny-1) - (Nx-1))          #1st lower diagonal\n",
    "d3 = -2*(step_rat+1)*np.ones((Nx-1)*(Ny-1))       #1st upper diagolan\n",
    "d5 = step_rat*np.ones((Nx-1)*(Ny-1) - (Nx-1))          #main diagonal\n",
    "\n",
    "d2 = np.ones((Nx-1)*(Ny-1) - 1)                   #2nd lower diagonal\n",
    "d4 = np.ones((Nx-1)*(Ny-1) - 1)                   #2nd upper diagonal    \n",
    "d2[Nx-2:len(d2):Nx-1] = 0\n",
    "d4[Nx-2:len(d2):Nx-1] = 0\n",
    "\n",
    "offsets = [-(Nx-1), -1, 0, 1, Nx-1]                       #diagonal positions\n",
    "\n",
    "M = sparse.diags([d1, d2, d3, d4, d5], offsets).toarray()  #the sparse 5diagonal matrix\n",
    "# print(M)\n",
    "# print('')\n",
    "# print(d2)\n",
    "# print('')\n",
    "# print(d4)\n",
    "# np.nonzero(d2==0)[0]"
   ]
  },
  {
   "cell_type": "code",
   "execution_count": 5,
   "metadata": {},
   "outputs": [],
   "source": [
    "#Define the source term and the analytical solution\n",
    "def source(x, y): \n",
    "\n",
    "    f = -2*np.sin(x)*np.sin(y) \n",
    "\n",
    "    return f\n",
    "\n",
    "def u_analytical(x, y):\n",
    "\n",
    "    u_an = np.sin(x)*np.sin(y) + 2*(x-np.pi)*y + 1 \n",
    "\n",
    "    return u_an\n",
    "\n",
    "def bound(x, y):\n",
    "\n",
    "    b = np.zeros([(Nx-1)*(Ny-1)])\n",
    "    b[0:Nx-1] -= step_rat*u_analytical(x, y)[0, 1:Nx]\n",
    "    b[-(Nx-1):] -= step_rat*u_analytical(x, y)[-1, 1:Nx]\n",
    "    b[0::Nx-1] -= u_analytical(x, y)[1:Ny, 0]\n",
    "    b[Nx-2::Nx-1] -= u_analytical(x, y)[1:Ny, -1]\n",
    "    return b\n"
   ]
  },
  {
   "cell_type": "code",
   "execution_count": 6,
   "metadata": {},
   "outputs": [],
   "source": [
    "#Test example\n",
    "u_an = u_analytical(x, y)                                                    #analytical solution for comparison\n",
    "# print(u_an)\n",
    "rhs = (dx)**2*source(x, y)[1:Ny, 1:Nx].reshape((Nx-1)*(Ny-1)) + bound(x,y)    #create right hand side\n",
    "\n",
    "# for j in range(Ny):\n",
    "#     rhs[0, j] -= u_an[0, j] \n",
    "\n",
    "# print(rhs)\n",
    "\n",
    "u_num = la.solve(M, rhs).reshape(Ny-1, Nx-1)                      #solve for the internal grid points\n",
    "u_num = np.insert(u_num, [0, Ny-1], [u_an[0,1:Nx], u_an[-1,1:Nx]], axis = 0)                  #add the boundary values\n",
    "# u_num = np.insert(u_num, [0, Nx-1], [u_an[1:Ny,0], u_an[1:Ny,-1]], axis = 1)\n",
    "\n",
    "u_num = np.hstack((u_num, u_an[:,Nx].reshape(Ny+1, 1)))\n",
    "u_num = np.hstack((u_an[:,0].reshape(Ny+1, 1), u_num))\n",
    "# print(u_num)\n",
    "                                        \n",
    "\n",
    "# print(u_an)\n",
    "# print(\"\")\n",
    "# print(u_num)"
   ]
  },
  {
   "cell_type": "code",
   "execution_count": 7,
   "metadata": {},
   "outputs": [
    {
     "output_type": "execute_result",
     "data": {
      "text/plain": "<mpl_toolkits.mplot3d.art3d.Poly3DCollection at 0x7ff6a9b1c910>"
     },
     "metadata": {},
     "execution_count": 7
    }
   ],
   "source": [
    "#Plot the results\n",
    "#magic command for figure in external figure\n",
    "# %matplotlib qt                                \n",
    "\n",
    "\n",
    "fig = plt.figure()                                #create 3D figure and axes\n",
    "ax = fig.add_subplot(111, projection='3d')\n",
    "\n",
    "scat = ax.scatter(x, y, u_num, c = 'r')                  #plot the numerical solution vs the analytical\n",
    "surf = ax.plot_surface(x, y, u_an)\n",
    "\n",
    "ax.set_xlabel('x')\n",
    "ax.set_ylabel('y')\n",
    "ax.set_zlabel($\\sinx\\siny+2(x-\\pi)y+1$)\n",
    "\n",
    "surf._facecolors2d=surf._facecolors3d\n",
    "surf._edgecolors2d=surf._edgecolors3d\n",
    "\n",
    "ax.legend()\n",
    "\n",
    "plt.show()"
   ]
  },
  {
   "cell_type": "code",
   "execution_count": null,
   "metadata": {},
   "outputs": [],
   "source": []
  },
  {
   "cell_type": "code",
   "execution_count": null,
   "metadata": {},
   "outputs": [],
   "source": []
  }
 ],
 "metadata": {
  "language_info": {
   "codemirror_mode": {
    "name": "ipython",
    "version": 3
   },
   "file_extension": ".py",
   "mimetype": "text/x-python",
   "name": "python",
   "nbconvert_exporter": "python",
   "pygments_lexer": "ipython3",
   "version": "3.7.5-final"
  },
  "orig_nbformat": 2,
  "kernelspec": {
   "name": "python3",
   "display_name": "Python 3"
  }
 },
 "nbformat": 4,
 "nbformat_minor": 2
}