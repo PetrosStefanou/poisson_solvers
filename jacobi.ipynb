{
 "cells": [
  {
   "cell_type": "code",
   "execution_count": 1,
   "metadata": {},
   "outputs": [],
   "source": [
    "import numpy as np\n",
    "import matplotlib.pyplot as plt\n",
    "from mpl_toolkits.mplot3d import Axes3D\n",
    "import numpy.linalg as la\n",
    "import scipy.sparse as sparse\n",
    "from matplotlib import cm\n",
    "import timeit\n",
    "import numba\n",
    "from numba import jit"
   ]
  },
  {
   "cell_type": "code",
   "execution_count": 2,
   "metadata": {},
   "outputs": [],
   "source": [
    "#output settings\n",
    "np.set_printoptions(precision=2)\n",
    "%matplotlib qt "
   ]
  },
  {
   "cell_type": "code",
   "execution_count": 3,
   "metadata": {},
   "outputs": [],
   "source": [
    "def u_analytical(x, y):\n",
    "\n",
    "    uan = np.sin(np.pi*x)*np.sin(np.pi*y)\n",
    "\n",
    "    return uan\n",
    "\n",
    "def source(x, y):\n",
    "\n",
    "    f = -2*np.pi**2*np.sin(np.pi*x)*np.sin(np.pi*y)\n",
    "\n",
    "    return f"
   ]
  },
  {
   "cell_type": "code",
   "execution_count": 4,
   "metadata": {},
   "outputs": [],
   "source": [
    "@jit(nopython=True)\n",
    "def jacobi_iteration(matrix, source, init_guess = None, tolerance = 1.e-5, itermax = 200):\n",
    "\n",
    "    M, f, u0, tol, kmax = matrix, source, init_guess, tolerance, itermax\n",
    "\n",
    "    N = int(np.sqrt(M.shape[0])-1)\n",
    "    # print(N)\n",
    "\n",
    "    if u0 is None:\n",
    "\n",
    "        u0 = np.zeros(f.shape)\n",
    "\n",
    "\n",
    "    u = u0\n",
    "    rel_diff = tol + 1\n",
    "    k = 0\n",
    "\n",
    "    while  k < kmax and rel_diff > tol:\n",
    "\n",
    "        u_temp = np.zeros((N+1, N+1))\n",
    "\n",
    "        for j in range(1, N):\n",
    "\n",
    "            for i in range(1, N):\n",
    "                \n",
    "                u_temp[i, j] = (u[i-1, j] + u[i+1, j] + \n",
    "                                 u[i, j-1] + u[i, j+1] - f[i,j]*h**2)/4\n",
    "\n",
    "                # print(M[i,i], M[i-1, j], M[i+1,j], M[i, j-1], M[i,j+1])\n",
    "\n",
    "        rel_diff = la.norm(u_temp - u)/la.norm(u)\n",
    "        \n",
    "        # L2norm = la.norm(u_temp - u, 2)\n",
    "        # maxnorm = la.norm(u_temp - u, np.inf)\n",
    "\n",
    "        # print(abs_diff, L2norm, maxnorm)\n",
    "\n",
    "\n",
    "        u = u_temp\n",
    "        k += 1\n",
    "        # print(u, '\\n')\n",
    "    return u, k, rel_diff"
   ]
  },
  {
   "cell_type": "code",
   "execution_count": 5,
   "metadata": {},
   "outputs": [],
   "source": [
    "N = 40\n",
    "Nx = N\n",
    "Ny = N\n",
    "\n",
    "\n",
    "x_I, x_F = 0, 1\n",
    "y_I, y_F = 0, 1\n",
    "\n",
    "h = (x_F - x_I)/N\n",
    "\n",
    "X = np.linspace(x_I, x_F, N+1)\n",
    "Y = np.linspace(x_I, x_F, N+1)\n",
    "\n",
    "x, y = np.meshgrid(X, Y)\n",
    "\n",
    "# print(h, '\\n')\n",
    "# print(h, '\\n')\n"
   ]
  },
  {
   "cell_type": "code",
   "execution_count": 6,
   "metadata": {},
   "outputs": [],
   "source": [
    "#creat main diagonal block\n",
    "b1 = np.ones(Nx)\n",
    "# b1[Nx-1] = 0\n",
    "\n",
    "b2 = -4*np.ones(Nx+1)\n",
    "# b2[0] = 1\n",
    "# b2[Nx] = 1\n",
    "\n",
    "b3 = np.ones(Nx)\n",
    "# b3[0] = 0\n",
    "\n",
    "B = sparse.diags([b1, b2, b3], [-1, 0, 1]).toarray()             #main block matrix\n",
    "\n",
    "# print(B)\n",
    "\n",
    "M1 = sparse.kron(sparse.eye(Ny+1), B).toarray()                  #central component of the tridiagonal block matrix"
   ]
  },
  {
   "cell_type": "code",
   "execution_count": 7,
   "metadata": {},
   "outputs": [],
   "source": [
    "#creat upper and lower diagonal blocks\n",
    "a = sparse.diags([np.ones(Ny), np.ones(Ny)], [-1, 1]).toarray()\n",
    "\n",
    "A = sparse.eye(Nx+1).toarray()                                #upper/lower block matrix\n",
    "# A[0, 0] = 0\n",
    "# A[Nx, Nx] = 0\n",
    "\n",
    "M2 = sparse.kron(a, A).toarray()                              #upper/lower component of the tridiagonal block matrix\n",
    "# print(A)"
   ]
  },
  {
   "cell_type": "code",
   "execution_count": 8,
   "metadata": {},
   "outputs": [
    {
     "output_type": "stream",
     "name": "stdout",
     "text": "[[-4.  1.  0. ...  0.  0.  0.]\n [ 1. -4.  1. ...  0.  0.  0.]\n [ 0.  1. -4. ...  0.  0.  0.]\n ...\n [ 0.  0.  0. ... -4.  1.  0.]\n [ 0.  0.  0. ...  1. -4.  1.]\n [ 0.  0.  0. ...  0.  1. -4.]]\n"
    }
   ],
   "source": [
    "#creat the tridiagonal block matrix of the 2d poisson equation.\n",
    "M = M1 + M2       \n",
    "print(M)\n"
   ]
  },
  {
   "cell_type": "code",
   "execution_count": 9,
   "metadata": {
    "tags": [
     "outputPrepend",
     "outputPrepend",
     "outputPrepend",
     "outputPrepend",
     "outputPrepend",
     "outputPrepend",
     "outputPrepend",
     "outputPrepend",
     "outputPrepend",
     "outputPrepend",
     "outputPrepend"
    ]
   },
   "outputs": [
    {
     "output_type": "stream",
     "name": "stdout",
     "text": "Number of iterations: 3681 \nL2 norm between last two iterations: 1.00e-08 \nTime elapsed: 1.69e+00 s\n"
    }
   ],
   "source": [
    "#Test the solver\n",
    "f = source(x, y)                          #source term\n",
    "u_guess = np.sin(np.pi*x/2)*np.sin(np.pi*y/2)             #initial guess\n",
    "itermax = 2000000                            #maximum number of iterations\n",
    "tol = 1e-8                               #desired tolerance\n",
    "\n",
    "start = timeit.default_timer()            #time the solver\n",
    "\n",
    "u, iternum, rel_diff = jacobi_iteration(M, f, init_guess = u_guess, itermax = itermax, tolerance = tol)       #calculate the solution\n",
    "\n",
    "end = timeit.default_timer()\n",
    "\n",
    "elapsed = (end - start)\n",
    "\n",
    "u_an = u_analytical(x, y)                #analytical solution for comparison\n",
    "\n",
    "if iternum == itermax:\n",
    "\n",
    "    print('WARNING: desired tolerance has not been reached for the given maximum iterations \\n')\n",
    "\n",
    "print('Number of iterations: {} \\n'\n",
    "      'L2 norm between last two iterations: {:1.2e} \\n'\n",
    "      'Time elapsed: {:1.2e} s'.format(iternum, rel_diff, elapsed))\n",
    "\n"
   ]
  },
  {
   "cell_type": "code",
   "execution_count": 15,
   "metadata": {},
   "outputs": [
    {
     "output_type": "stream",
     "name": "stdout",
     "text": "0.0005109663257388609\n"
    }
   ],
   "source": [
    "u_an = u_analytical(x, y)\n",
    "\n",
    "error = la.norm(u - u_an, 2)/la.norm(u_an, 2)\n",
    "\n",
    "print(error)"
   ]
  },
  {
   "cell_type": "code",
   "execution_count": 10,
   "metadata": {},
   "outputs": [],
   "source": [
    "#plot and compare the results\n",
    "fig = plt.figure()\n",
    "ax = fig.add_subplot(111, projection = '3d')\n",
    "\n",
    "\n",
    "scat = ax.scatter(x, y, u, c = 'r', label = 'numerical', alpha = 1)\n",
    "surf = ax.plot_surface(x, y, u_an, cmap = cm.coolwarm, label = 'analytical', alpha = 0.8)\n",
    "\n",
    "ax.set_xlabel('x')\n",
    "ax.set_ylabel('y')\n",
    "ax.set_title('$u = \\sin\\pi x \\sin\\pi y$')\n",
    "\n",
    "surf._facecolors2d=surf._facecolors3d\n",
    "surf._edgecolors2d=surf._edgecolors3d\n",
    "ax.legend(loc = 2)\n",
    "plt.show()"
   ]
  },
  {
   "cell_type": "code",
   "execution_count": 11,
   "metadata": {},
   "outputs": [],
   "source": [
    "# np.allclose(M.dot(u_an[1:N, 1:N].reshape((N-1)**2)), f[1:N, 1:N].reshape((N-1)**2)) "
   ]
  },
  {
   "cell_type": "code",
   "execution_count": null,
   "metadata": {},
   "outputs": [],
   "source": []
  }
 ],
 "metadata": {
  "celltoolbar": "Edit Metadata",
  "kernelspec": {
   "display_name": "Python 3",
   "language": "python",
   "name": "python3"
  },
  "language_info": {
   "codemirror_mode": {
    "name": "ipython",
    "version": 3
   },
   "file_extension": ".py",
   "mimetype": "text/x-python",
   "name": "python",
   "nbconvert_exporter": "python",
   "pygments_lexer": "ipython3",
   "version": "3.7.5-final"
  }
 },
 "nbformat": 4,
 "nbformat_minor": 2
}