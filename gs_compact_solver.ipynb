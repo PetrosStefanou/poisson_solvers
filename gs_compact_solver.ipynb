{
 "cells": [
  {
   "cell_type": "code",
   "execution_count": 1,
   "metadata": {},
   "outputs": [],
   "source": [
    "import numpy as np\n",
    "import numpy.linalg as la\n",
    "# import scipy.sparse as sparse\n",
    "\n",
    "import matplotlib.pyplot as plt\n",
    "from mpl_toolkits.mplot3d import Axes3D\n",
    "from matplotlib import cm\n",
    "from matplotlib.patches import Circle\n",
    "\n",
    "\n",
    "import timeit\n",
    "import numba\n",
    "from numba import jit, njit\n",
    "\n",
    "# from iteration_methods import*\n",
    "from basic import*"
   ]
  },
  {
   "cell_type": "code",
   "execution_count": 2,
   "metadata": {},
   "outputs": [],
   "source": [
    "#Set output options\n",
    "np.set_printoptions(precision=2)\n",
    "%matplotlib qt "
   ]
  },
  {
   "cell_type": "code",
   "execution_count": 3,
   "metadata": {},
   "outputs": [],
   "source": [
    "@njit\n",
    "def source(r, th, u, params = (1, 0, 0.5)):\n",
    "\n",
    "    sigma, s, uc = params\n",
    "\n",
    "    f1 = -sigma*s**2*(u-uc)**(2*sigma-1)\n",
    "    \n",
    "    return f1\n",
    "\n",
    "@njit\n",
    "def u_analytical(r, th):\n",
    "\n",
    "    uan = np.sin(th)**2/r \n",
    "\n",
    "    return uan"
   ]
  },
  {
   "cell_type": "code",
   "execution_count": 4,
   "metadata": {},
   "outputs": [],
   "source": [
    "def gs_comp_solver(matrix, source_term, grid, init_guess=None, \n",
    "                    boundary=((0, 0), (0,0)), tolerance=1.e-8, \n",
    "                    itermax=1000, omega=1.5, params=(1, 0, 0.5)):\n",
    "\n",
    "    #read the input\n",
    "    M, u0, B, tol, kmax = matrix, init_guess, boundary, tolerance, itermax\n",
    "\n",
    "    #assign the grid\n",
    "    q, th = grid\n",
    "\n",
    "    Q, TH = q[0], th[:,0]\n",
    "\n",
    "    Nq, Nth = q.shape[1]-1, th.shape[0]-1\n",
    "\n",
    "    dq, dth = (q[0, -1] - q[0, 0])/Nq, (th[-1, 0] - th[0, 0])/Nth\n",
    " \n",
    "    \n",
    "    \n",
    "    #assign the initial guess\n",
    "    if init_guess is None:\n",
    "\n",
    "        u0 = np.ones_like(q)\n",
    "\n",
    "    #assign dirichlet boundary conditions\n",
    "    u0[:, 0] = B[0][0]                          #q_I boundary              \n",
    "    u0[:, -1] = B[0][1]                         #q_F boundary\n",
    "    u0[0, :] = B[1][0]                          #th_I boundary\n",
    "    u0[-1, :] = B[1][1]                         #th_F boundary\n",
    "    \n",
    "    #assign extra parameters\n",
    "    sigma, s, uc = params\n",
    "\n",
    "    R = Q[-1]           #The radius of the star\n",
    "\n",
    "    #assign the source term\n",
    "    f = np.zeros_like(q)\n",
    "    for j in range(1, Nth):\n",
    "            for i in range(1, Nq):\n",
    "                \n",
    "                #simulate the effect of the heaviside step function\n",
    "                if u0[j,i] >= uc:\n",
    "\n",
    "                    f[j,i] = source_term(q[i], th[j], u0[j,i], params)\n",
    "                else:\n",
    "                    \n",
    "                    f[j,i] = 0.\n",
    "\n",
    "\n",
    "    #initial values before the iteration loop starts\n",
    "    u = u0.copy()\n",
    "    k = 0\n",
    "    rel_diff = tol + 1\n",
    "    conv_hist = []\n",
    "\n",
    "    \n",
    "\n",
    "    #iteration loop \n",
    "    while  k < kmax and rel_diff > tol:    \n",
    "        \n",
    "        # print the iteration number to keep track of the solver\n",
    "        # if np.mod(k, 200) == 0:\n",
    "\n",
    "        #     print(k)\n",
    "\n",
    "        u_next = u.copy()\n",
    "      \n",
    "        #calculate the solution in the kth step\n",
    "        for j in range(1, Nth):\n",
    "            for i in range(1, Nq):\n",
    "                \n",
    "                #Update the source term if it is a function of the solution\n",
    "                #simulate the effect of the heaviside step function\n",
    "                if u[j,i] >= uc:\n",
    "\n",
    "                    f[j,i] = source_term(q[i], th[j], u[j,i], params)\n",
    "                else:\n",
    "                    \n",
    "                    f[j,i] = 0.\n",
    "\n",
    "\n",
    "                #update the solution using SOR method\n",
    "                u_next[j,i] = (1-omega)*u[j,i] + omega/(2*(Q[i]**2*dth**2 + dq**2))*  \\\n",
    "                              (dth**2*Q[i]*(u[j,i+1]*(Q[i]+dq) + u_next[j,i-1]*(Q[i]-dq)) \n",
    "                               +dq**2*(u[j+1,i]*(1-dth/(2*np.tan(TH[j]))) + u_next[j-1,i]*(1+dth/(2*np.tan(TH[j])))) \n",
    "                               -(dq*dth*R**2/Q[i])**2*f[j,i])\n",
    "                \n",
    "        #calculate the L2 norm of the relative difference between the two last iterations   \n",
    "        rel_diff = la.norm(u_next-u)/la.norm(u)\n",
    "        \n",
    "        #Save the convergence history\n",
    "        conv_hist.append(rel_diff)\n",
    "\n",
    "        #update solution for next iteration\n",
    "        u = u_next\n",
    "\n",
    "        k += 1\n",
    "\n",
    "    return u, k, rel_diff, conv_hist"
   ]
  },
  {
   "cell_type": "code",
   "execution_count": 5,
   "metadata": {},
   "outputs": [],
   "source": [
    "#Setup the parameters for the solver. Function grid() is in the basic.py module\n",
    "\n",
    "#extra parameters that may be needed\n",
    "sigma = 1.1\n",
    "s = 0.\n",
    "uc = 0.5\n",
    "params = (sigma , s, uc)\n",
    "# params1 = (sigma , 0., uc)\n",
    "# params2 = (1. , s, uc)\n",
    "\n",
    "#max number of iteration\n",
    "iterations = 10000                              \n",
    "\n",
    "#desired tolerance\n",
    "tolerance = 1.e-8                                   "
   ]
  },
  {
   "cell_type": "code",
   "execution_count": 6,
   "metadata": {},
   "outputs": [],
   "source": [
    "#jit the solver function\n",
    "gs_comp_solver = jit(nopython=True)(gs_comp_solver)"
   ]
  },
  {
   "cell_type": "code",
   "execution_count": 7,
   "metadata": {
    "tags": []
   },
   "outputs": [
    {
     "output_type": "stream",
     "name": "stdout",
     "text": "Nr=25\nSOR solver compact \nNumber of iterations: 689 \nLast Relative difference: 8.977E-09\nError to analytical: 1.481E-04s \nElapsed time: 3.70E+00s \n--------------------------------------------------\nNr=50\nSOR solver compact \nNumber of iterations: 711 \nLast Relative difference: 9.815E-09\nError to analytical: 1.502E-04s \nElapsed time: 2.39E+00s \n--------------------------------------------------\nNr=100\nSOR solver compact \nNumber of iterations: 743 \nLast Relative difference: 9.803E-09\nError to analytical: 1.513E-04s \nElapsed time: 5.11E+00s \n--------------------------------------------------\nNr=200\nSOR solver compact \nNumber of iterations: 808 \nLast Relative difference: 8.462E-09\nError to analytical: 1.518E-04s \nElapsed time: 1.11E+01s \n--------------------------------------------------\nNr=400\nSOR solver compact \nNumber of iterations: 1234 \nLast Relative difference: 9.978E-09\nError to analytical: 1.528E-04s \nElapsed time: 3.52E+01s \n--------------------------------------------------\n"
    }
   ],
   "source": [
    "#Calculate, time and qualify the solution in the compact coordinates\n",
    "\n",
    "r_s = 10000.\n",
    "error_to_an = []\n",
    "Nmax=200\n",
    "N = np.array([25, 50, 100, 200, 400])\n",
    "# N = [100]\n",
    "u_list=[]\n",
    "resolution = []\n",
    "omega = np.asarray(np.arange(1.8, 2., 0.025))\n",
    "k_list=[]\n",
    "for n in range(len(N)):\n",
    "# for i in range(len(omega)):\n",
    "    print('Nr={:}'.format(N[n]))\n",
    "    \n",
    "    #The grid of the problem\n",
    "    Q, TH, q, th, dq, dth = polar_grid(th_I=0, th_F=np.pi, r_I=0, r_F=r_s, Nr=N[n], Nth=100)\n",
    "    R, r = r_s**2/Q, r_s**2/q\n",
    "\n",
    "    resolution.append(dq)\n",
    "\n",
    "    u_an = u_analytical(r, th)\n",
    "    u_guess = 2*np.sin(th)**2/r       \n",
    "    boundary = ((0, np.sin(TH)**2/r_s), (0., 0.))                                   \n",
    "    omega_opt = 1.975     \n",
    "\n",
    "    start = timeit.default_timer()\n",
    "\n",
    "    u, k, rel_diff, conv_hist = gs_comp_solver(np.eye(2), source, (q, th), init_guess=u_guess, boundary=boundary,                                                                         tolerance=tolerance, itermax=iterations, omega=omega_opt, params=params)\n",
    "\n",
    "    elapsed = timeit.default_timer() - start\n",
    "\n",
    "    u_list.append(u)\n",
    "    k_list.append(k)\n",
    "    #Relative error to analytical\n",
    "    error = la.norm(u - u_an, 2)/la.norm(u_an, 2)\n",
    "    error_to_an.append(error)\n",
    "\n",
    "    #print solution\n",
    "    print('SOR solver compact \\nNumber of iterations: {:} \\nLast Relative difference: {:1.3E}' \n",
    "        '\\nError to analytical: {:1.3E}s \\nElapsed time: {:1.2E}s '.format(k, rel_diff, error, elapsed))\n",
    "    print('-'*50)"
   ]
  },
  {
   "cell_type": "code",
   "execution_count": 8,
   "metadata": {},
   "outputs": [],
   "source": [
    "# fig4, ax4 = plt.subplots()\n",
    "\n",
    "# ax4.plot(omega, k_list)"
   ]
  },
  {
   "cell_type": "code",
   "execution_count": 9,
   "metadata": {},
   "outputs": [
    {
     "output_type": "execute_result",
     "data": {
      "text/plain": "<matplotlib.legend.Legend at 0x7f1a0afc8390>"
     },
     "metadata": {},
     "execution_count": 9
    }
   ],
   "source": [
    "fig3, ax3 = plt.subplots()\n",
    "\n",
    "ax3.plot(N, error_to_an, label='compact')\n",
    "ax3.plot(N, 1/N**2)\n",
    "ax3.set_yscale('log')\n",
    "ax3.set_xscale('log')\n",
    "\n",
    "ax3.legend()"
   ]
  },
  {
   "cell_type": "code",
   "execution_count": 10,
   "metadata": {
    "tags": []
   },
   "outputs": [],
   "source": [
    "#Plot results. Function plot() is in basic.py module.\n",
    "# from basic import plot\n",
    "\n",
    "# plot(r*np.cos(th), r*np.sin(th), u, u1=None, u_an=None, conv_hist=conv_hist, plot_result=False)"
   ]
  },
  {
   "cell_type": "code",
   "execution_count": 11,
   "metadata": {},
   "outputs": [
    {
     "output_type": "error",
     "ename": "NameError",
     "evalue": "name 'cont1' is not defined",
     "traceback": [
      "\u001b[0;31m---------------------------------------------------------------------------\u001b[0m",
      "\u001b[0;31mNameError\u001b[0m                                 Traceback (most recent call last)",
      "\u001b[0;32m<ipython-input-11-c17670d0f9f9>\u001b[0m in \u001b[0;36m<module>\u001b[0;34m\u001b[0m\n\u001b[1;32m     22\u001b[0m \u001b[0max2\u001b[0m\u001b[0;34m.\u001b[0m\u001b[0mset_title\u001b[0m\u001b[0;34m(\u001b[0m\u001b[0;34m'compact'\u001b[0m\u001b[0;34m)\u001b[0m\u001b[0;34m\u001b[0m\u001b[0;34m\u001b[0m\u001b[0m\n\u001b[1;32m     23\u001b[0m \u001b[0mh\u001b[0m\u001b[0;34m,\u001b[0m\u001b[0m_\u001b[0m \u001b[0;34m=\u001b[0m \u001b[0mcont\u001b[0m\u001b[0;34m.\u001b[0m\u001b[0mlegend_elements\u001b[0m\u001b[0;34m(\u001b[0m\u001b[0;34m)\u001b[0m\u001b[0;34m\u001b[0m\u001b[0;34m\u001b[0m\u001b[0m\n\u001b[0;32m---> 24\u001b[0;31m \u001b[0mh1\u001b[0m\u001b[0;34m,\u001b[0m\u001b[0m_\u001b[0m \u001b[0;34m=\u001b[0m \u001b[0mcont1\u001b[0m\u001b[0;34m.\u001b[0m\u001b[0mlegend_elements\u001b[0m\u001b[0;34m(\u001b[0m\u001b[0;34m)\u001b[0m\u001b[0;34m\u001b[0m\u001b[0;34m\u001b[0m\u001b[0m\n\u001b[0m\u001b[1;32m     25\u001b[0m \u001b[0;31m# # h2,_ = cont2.legend_elements()\u001b[0m\u001b[0;34m\u001b[0m\u001b[0;34m\u001b[0m\u001b[0;34m\u001b[0m\u001b[0m\n\u001b[1;32m     26\u001b[0m \u001b[0mh_an\u001b[0m\u001b[0;34m,\u001b[0m\u001b[0m_\u001b[0m \u001b[0;34m=\u001b[0m \u001b[0mcont_an\u001b[0m\u001b[0;34m.\u001b[0m\u001b[0mlegend_elements\u001b[0m\u001b[0;34m(\u001b[0m\u001b[0;34m)\u001b[0m\u001b[0;34m\u001b[0m\u001b[0;34m\u001b[0m\u001b[0m\n",
      "\u001b[0;31mNameError\u001b[0m: name 'cont1' is not defined"
     ]
    }
   ],
   "source": [
    "fig2, ax2 = plt.subplots()\n",
    "\n",
    "levels=20\n",
    "colormap=cm.viridis\n",
    "\n",
    "cont = ax2.contour(r*np.sin(th), r*np.cos(th), u, levels=levels, cmap=colormap)\n",
    "\n",
    "# cont1 = ax2.contour(r1*np.sin(th1), r1*np.cos(th1), u1, levels=levels, cmap=colormap, linestyles = 'dashed')\n",
    "\n",
    "# cont2 = ax2.contour(r*np.sin(th), r*np.cos(th), u2, levels=levels, cmap=colormap, linestyles = 'dotted') \n",
    "\n",
    "# cont_c = ax2.contour(r_s**2/q*np.sin(th), r_s**2/q*np.cos(th), u, levels=[uc], colors='red')\n",
    "# cont_c1 = ax2.contour(r*np.sin(th), r*np.cos(th), u1, levels=[uc], colors='green')\n",
    "# cont_c2 = ax2.contour(r*np.sin(th), r*np.cos(th), u2, levels=[uc], colors='yellow')\n",
    "cont_an = ax2.contour(r*np.sin(th), r*np.cos(th), u_an, levels=levels, cmap=colormap, alpha=0.5)\n",
    "\n",
    "ax2.add_patch(Circle((0.,0.), r_s, color='b', zorder=100))\n",
    "\n",
    "ax2.set_ylim(top=10*r_s*np.cos(TH[0])/2, bottom=10*r_s*np.cos(TH[-1])/2)\n",
    "ax2.set_xlim(left=0., right=10*r_s)\n",
    "\n",
    "ax2.set_title('compact')\n",
    "h,_ = cont.legend_elements()\n",
    "h1,_ = cont1.legend_elements()\n",
    "# # h2,_ = cont2.legend_elements()\n",
    "h_an,_ = cont_an.legend_elements()\n",
    "ax2.legend([h[0], h1[0], h_an[0]], ['compact', 'normal', 'analytical'], loc=3)"
   ]
  },
  {
   "cell_type": "code",
   "execution_count": null,
   "metadata": {},
   "outputs": [],
   "source": []
  }
 ],
 "metadata": {
  "kernelspec": {
   "display_name": "Python 3",
   "language": "python",
   "name": "python3"
  },
  "language_info": {
   "codemirror_mode": {
    "name": "ipython",
    "version": 3
   },
   "file_extension": ".py",
   "mimetype": "text/x-python",
   "name": "python",
   "nbconvert_exporter": "python",
   "pygments_lexer": "ipython3",
   "version": "3.7.5-final"
  }
 },
 "nbformat": 4,
 "nbformat_minor": 2
}