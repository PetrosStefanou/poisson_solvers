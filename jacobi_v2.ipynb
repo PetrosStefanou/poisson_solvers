{
 "cells": [
  {
   "cell_type": "code",
   "execution_count": 1,
   "metadata": {},
   "outputs": [],
   "source": [
    "import numpy as np\n",
    "import matplotlib.pyplot as plt\n",
    "from mpl_toolkits.mplot3d import Axes3D\n",
    "import scipy.linalg as la\n",
    "import scipy.sparse as sparse\n",
    "from matplotlib import cm\n",
    "import timeit"
   ]
  },
  {
   "cell_type": "code",
   "execution_count": 2,
   "metadata": {},
   "outputs": [],
   "source": [
    "#output settings\n",
    "np.set_printoptions(precision=2)\n",
    "%matplotlib qt "
   ]
  },
  {
   "cell_type": "code",
   "execution_count": 3,
   "metadata": {},
   "outputs": [],
   "source": [
    "def u_analytical(x, y):\n",
    "\n",
    "    uan = np.sin(np.pi*x)*np.sin(np.pi*y)\n",
    "\n",
    "    return uan\n",
    "\n",
    "def source(x, y):\n",
    "\n",
    "    f = -2*np.pi**2*np.sin(np.pi*x)*np.sin(np.pi*y)\n",
    "\n",
    "    return f"
   ]
  },
  {
   "cell_type": "code",
   "execution_count": 4,
   "metadata": {},
   "outputs": [],
   "source": [
    "def jacobi_iteration(matrix, source, grid, init_guess=None, tolerance=1.e-5, itermax=50):\n",
    "\n",
    "    M, f, u0, tol, kmax = matrix, source, init_guess, tolerance, itermax\n",
    "\n",
    "    x, y = grid\n",
    "\n",
    "    Nx = x.shape[1] - 1\n",
    "    Ny = y.shape[0] - 1\n",
    "    \n",
    "    dx = (x[0, -1] - x[0, 0])/Nx\n",
    "    dy = (y[-1, 0] - y[0, 0])/Ny\n",
    "    \n",
    "\n",
    "    if init_guess is None:\n",
    "\n",
    "        u0 = np.zeros_like(f)\n",
    "\n",
    "    u = u0\n",
    "    k = 0\n",
    "    rel_diff = tol +1\n",
    "    conv_hist = []\n",
    "    while k < kmax and rel_diff > tol:\n",
    "\n",
    "        u_next = np.zeros_like(u)\n",
    "\n",
    "        u_next[1:-1, 1:-1] = ((u[:-2, 1:-1] + u[2:, 1:-1])*dx**2 + (u[1:-1, :-2] + u[1:-1, 2:])*dy**2 -\n",
    "                              dx**2*dy**2*f[1:-1, 1:-1])/(2*(dx**2+dy**2))\n",
    "\n",
    "        \n",
    "        rel_diff = la.norm(u_next - u)/la.norm(u)\n",
    "        conv_hist.append(rel_diff)\n",
    "\n",
    "        k += 1\n",
    "\n",
    "        u = u_next\n",
    "\n",
    "    return u, k, rel_diff, conv_hist"
   ]
  },
  {
   "cell_type": "code",
   "execution_count": 5,
   "metadata": {},
   "outputs": [],
   "source": [
    "Nx = 40\n",
    "Ny = 40\n",
    "\n",
    "x_I, x_F = 0, 1\n",
    "y_I, y_F = 0, 1\n",
    "\n",
    "X = np.linspace(x_I, x_F, Nx+1)\n",
    "Y = np.linspace(y_I, y_F, Ny+1)\n",
    "\n",
    "x, y = np.meshgrid(X, Y)\n",
    "\n",
    "# print(x, y)"
   ]
  },
  {
   "cell_type": "code",
   "execution_count": 6,
   "metadata": {
    "tags": [
     "outputPrepend"
    ]
   },
   "outputs": [
    {
     "output_type": "stream",
     "name": "stdout",
     "text": "Number of iterations: 4095 \nRelative difference: 9.99E-09 \nElapsed time: 4.13E-01\n"
    }
   ],
   "source": [
    "f = source(x, y)\n",
    "u_guess = np.cos(np.pi*x)*np.cos(np.pi*y)\n",
    "\n",
    "start = timeit.default_timer()\n",
    "\n",
    "u, k, rel_diff, conv_hist = jacobi_iteration(np.eye(Nx), f, (x, y), init_guess=u_guess, tolerance=1.e-8, itermax=20000)\n",
    "\n",
    "elapsed = timeit.default_timer() - start\n",
    "\n",
    "print('Number of iterations: {:} \\nRelative difference: {:1.2E} \\nElapsed time: {:1.2E}'.format(k, rel_diff, elapsed))\n",
    "\n"
   ]
  },
  {
   "cell_type": "code",
   "execution_count": 7,
   "metadata": {},
   "outputs": [
    {
     "output_type": "stream",
     "name": "stdout",
     "text": "0.0005109687754905329\n"
    }
   ],
   "source": [
    "u_an = u_analytical(x, y)\n",
    "\n",
    "error = la.norm(u - u_an, 2)/la.norm(u_an, 2)\n",
    "\n",
    "print(error)"
   ]
  },
  {
   "cell_type": "code",
   "execution_count": 8,
   "metadata": {},
   "outputs": [],
   "source": [
    "fig = plt.figure()\n",
    "ax = fig.add_subplot(111, projection = '3d')\n",
    "\n",
    "\n",
    "scat = ax.scatter(x, y, u, c = 'r', label = 'numerical', alpha = 1)\n",
    "surf = ax.plot_surface(x, y, u_an, cmap = cm.coolwarm, label = 'analytical', alpha = 0.8)\n",
    "\n",
    "ax.set_xlabel('x')\n",
    "ax.set_ylabel('y')\n",
    "ax.set_title('$u = \\sin\\pi x \\sin\\pi y$')\n",
    "\n",
    "surf._facecolors2d=surf._facecolors3d\n",
    "surf._edgecolors2d=surf._edgecolors3d\n",
    "ax.legend(loc = 2)\n",
    "plt.show()"
   ]
  },
  {
   "cell_type": "code",
   "execution_count": null,
   "metadata": {},
   "outputs": [],
   "source": []
  }
 ],
 "metadata": {
  "language_info": {
   "codemirror_mode": {
    "name": "ipython",
    "version": 3
   },
   "file_extension": ".py",
   "mimetype": "text/x-python",
   "name": "python",
   "nbconvert_exporter": "python",
   "pygments_lexer": "ipython3",
   "version": "3.7.5-final"
  },
  "orig_nbformat": 2,
  "kernelspec": {
   "name": "python3",
   "display_name": "Python 3"
  }
 },
 "nbformat": 4,
 "nbformat_minor": 2
}