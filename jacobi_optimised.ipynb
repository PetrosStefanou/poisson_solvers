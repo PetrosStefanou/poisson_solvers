{
 "cells": [
  {
   "cell_type": "code",
   "execution_count": 1,
   "metadata": {},
   "outputs": [],
   "source": [
    "import numpy as np\n",
    "import numpy.linalg as la\n",
    "# import scipy.sparse as sparse\n",
    "\n",
    "import matplotlib.pyplot as plt\n",
    "from mpl_toolkits.mplot3d import Axes3D\n",
    "from matplotlib import cm\n",
    "\n",
    "import timeit\n",
    "import numba\n",
    "from numba import jit\n",
    "\n",
    "from iteration_methods import*\n",
    "from basic import*"
   ]
  },
  {
   "cell_type": "code",
   "execution_count": 2,
   "metadata": {},
   "outputs": [],
   "source": [
    "#output settings\n",
    "np.set_printoptions(precision=2)\n",
    "# %matplotlib qt "
   ]
  },
  {
   "cell_type": "code",
   "execution_count": 3,
   "metadata": {},
   "outputs": [],
   "source": [
    "# #Define analytical solution and source term\n",
    "# def u_analytical(x, y):\n",
    "\n",
    "#     uan = np.sin(np.pi*x)*np.sin(np.pi*y) + x\n",
    "\n",
    "#     return uan\n",
    "\n",
    "# def source(x, y):\n",
    "\n",
    "#     f = -2*np.pi**2*np.sin(np.pi*x)*np.sin(np.pi*y)\n",
    "\n",
    "#     return f"
   ]
  },
  {
   "cell_type": "code",
   "execution_count": 4,
   "metadata": {
    "tags": [
     "outputPrepend"
    ]
   },
   "outputs": [],
   "source": [
    "#Setup the parameters for the solver. Functions grid(), source() are in the basic.py module\n",
    "\n",
    "X, Y, x, y, dx, dy = grid()                     #The grid of the problem\n",
    "\n",
    "f = source(x, y)                                #source term\n",
    "\n",
    "u_guess = np.cos(np.pi*x)*np.cos(np.pi*y)       #initial guess\n",
    "\n",
    "boundary = ((0,1), (X, X))                      #dirichlet boundary conditions\n",
    "\n",
    "\n",
    "iterations = 20000                               #max number of iteration\n",
    "tolerance = 1.e-6                               #desired tolerance\n",
    "\n",
    "omega_opt = 2/(1+np.sin(np.pi*max(dx, dy)))                                    #relaxation parameter for SOR method"
   ]
  },
  {
   "cell_type": "code",
   "execution_count": 5,
   "metadata": {},
   "outputs": [],
   "source": [
    "jitted_jacobi = jit(nopython=True)(slow_jacobi)\n",
    "SOR = jit(nopython=True)(SOR)"
   ]
  },
  {
   "cell_type": "code",
   "execution_count": 6,
   "metadata": {},
   "outputs": [
    {
     "output_type": "stream",
     "name": "stdout",
     "text": "Numpy Jacobi \nNumber of iterations: 12371 \nRelative difference: 9.9984E-07 \nElapsed time: 4.45E+00s\n--------------------------------------------------\nJitted Jacobi \nNumber of iterations: 12371 \nRelative difference: 9.9984E-07 \nElapsed time: 4.17E+00s\n--------------------------------------------------\nGauss-Seidel \nNumber of iterations: 6894 \nRelative difference: 9.9981E-07 \nElapsed time: 3.02E+00s\n--------------------------------------------------\nSOR omega = 1.5 \nNumber of iterations: 1006 \nRelative difference: 9.9329E-07 \nElapsed time: 1.96E+00s\n--------------------------------------------------\nSOR omega = 1.9390916590666494 \nNumber of iterations: 234 \nRelative difference: 9.7010E-07 \nElapsed time: 4.38E-02s\n--------------------------------------------------\n"
    }
   ],
   "source": [
    "#Calculate the results, time them and print output\n",
    "#The numpy version of jacobi method\n",
    "start = timeit.default_timer()\n",
    "\n",
    "u_np, k_np, rel_diff_np, conv_hist_np, conv_hist_max_np = numpy_jacobi(np.eye(100), f, (x, y), init_guess=u_guess, boundary=boundary,                                                                         tolerance=tolerance, itermax=iterations)\n",
    "\n",
    "elapsed_np = timeit.default_timer() - start\n",
    "\n",
    "print('Numpy Jacobi \\nNumber of iterations: {:} \\nRelative difference: {:1.4E} \\nElapsed time: {:1.2E}s'.format(k_np, rel_diff_np,                                                                                                                    elapsed_np))\n",
    "print('-'*50)\n",
    "\n",
    "#------------------------------------------------\n",
    "#The jitted version of jacobi method\n",
    "start = timeit.default_timer()\n",
    "\n",
    "u_jit, k_jit, rel_diff_jit, conv_hist_jit, conv_hist_max_jit = jitted_jacobi(np.eye(100), f, (x, y), init_guess=u_guess, boundary=boundary,                                                                            tolerance=tolerance, itermax=iterations)\n",
    "\n",
    "elapsed_jit = timeit.default_timer() - start\n",
    "\n",
    "print('Jitted Jacobi \\nNumber of iterations: {:} \\nRelative difference: {:1.4E} \\nElapsed time: {:1.2E}s'.format(k_jit, rel_diff_jit,                                                                                                                elapsed_jit))\n",
    "print('-'*50)\n",
    "#-----------------------------------------------\n",
    "#The jitted Gauss-Seidel method (or sor method with omega=1)\n",
    "start = timeit.default_timer()\n",
    "\n",
    "u_gs, k_gs, rel_diff_gs, conv_hist_gs, conv_hist_max_gs = SOR(np.eye(100), f, (x, y), init_guess=u_guess, boundary=boundary,                                                                         tolerance=tolerance, itermax=iterations, omega=1)\n",
    "\n",
    "elapsed_gs = timeit.default_timer() - start\n",
    "\n",
    "print('Gauss-Seidel \\nNumber of iterations: {:} \\nRelative difference: {:1.4E} \\nElapsed time: {:1.2E}s'.format(k_gs, rel_diff_gs,                                                                                                                elapsed_gs))\n",
    "print('-'*50)\n",
    "\n",
    "#------------------------------------------------\n",
    "#The sor method with an arbitrary value of omega (=1.5)\n",
    "start = timeit.default_timer()\n",
    "\n",
    "u_sor, k_sor, rel_diff_sor, conv_hist_sor, conv_hist_max_sor = SOR(np.eye(100), f, (x, y), init_guess=u_guess, boundary=boundary,                                                                         tolerance=tolerance, itermax=iterations, omega=1.8)\n",
    "\n",
    "elapsed_sor = timeit.default_timer() - start\n",
    "\n",
    "print('SOR omega = {:} \\nNumber of iterations: {:} \\nRelative difference: {:1.4E}'\n",
    "      ' \\nElapsed time: {:1.2E}s'.format(1.5, k_sor, rel_diff_sor, elapsed_sor))\n",
    "print('-'*50)\n",
    "\n",
    "#------------------------------------------------\n",
    "#The sor method with the optimum value of omega (=2/(1+sin(pi*max(dx, dy))))\n",
    "start = timeit.default_timer()\n",
    "\n",
    "u_sor_opt, k_sor_opt, rel_diff_sor_opt, conv_hist_sor_opt, conv_hist_max_sor_opt = SOR(np.eye(100), f, (x, y), init_guess=u_guess, boundary=boundary,                                                                         tolerance=tolerance, itermax=iterations, omega=omega_opt)\n",
    "\n",
    "elapsed_sor_opt = timeit.default_timer() - start\n",
    "\n",
    "print('SOR omega = {:} \\nNumber of iterations: {:} \\nRelative difference: {:1.4E}'\n",
    "      ' \\nElapsed time: {:1.2E}s'.format(omega_opt, k_sor_opt, rel_diff_sor_opt, elapsed_sor_opt))\n",
    "print('-'*50)\n",
    "\n",
    "#------------------------------------------------\n",
    "#The straightforward slow jacobi version, for comparison\n",
    "# start = timeit.default_timer()\n",
    "\n",
    "# u_slow, k_slow, rel_diff_slow, conv_hist_slow = slow_jacobi(np.eye(Nx), f, (x, y), init_guess=u_guess, boundary=boundary,                                                                         tolerance=tolerance, itermax=iterations)\n",
    "\n",
    "# elapsed_slow = timeit.default_timer() - start\n",
    "\n",
    "# print('Slow Jacobi \\nNumber of iterations: {:} \\nRelative difference: {:1.4E} \\nElapsed time: {:1.2E}s'.format(k_slow, rel_diff_slow,                                                                                                                elapsed_slow))\n",
    "# print('-'*50)\n",
    "#------------------------------------------------\n"
   ]
  },
  {
   "cell_type": "code",
   "execution_count": 7,
   "metadata": {},
   "outputs": [],
   "source": [
    "# time_np = %timeit -o numpy_jacobi(np.eye(Nx), f, (x, y), init_guess=u_guess, boundary=boundary,                                                                         tolerance=tolerance, itermax=iterations)\n",
    "\n",
    "# time_jit = %timeit -o jitted_jacobi(np.eye(Nx), f, (x, y), init_guess=u_guess, boundary=boundary,                                                                         tolerance=tolerance, itermax=iterations)\n",
    "\n",
    "# time_gs = %timeit -o SOR(np.eye(Nx), f, (x, y), init_guess=u_guess, boundary=boundary,                                                                         tolerance=tolerance, itermax=iterations, omega=1)\n",
    "\n",
    "# time_sor = %timeit -o SOR(np.eye(Nx), f, (x, y), init_guess=u_guess, boundary=boundary,                                                                         tolerance=tolerance, itermax=iterations, omega=1.8)\n",
    "\n",
    "# time_sor_opt = %timeit -o SOR(np.eye(Nx), f, (x, y), init_guess=u_guess, boundary=boundary,                                                                         tolerance=tolerance, itermax=iterations, omega=omega_opt)"
   ]
  },
  {
   "cell_type": "code",
   "execution_count": 8,
   "metadata": {},
   "outputs": [
    {
     "output_type": "stream",
     "name": "stdout",
     "text": "Numpy jacobi error: 1.9873E-03 \n\nJitted jacobi error: 1.9873E-03 \n\nGauss-Seidel error: 9.7363E-04 \n\nSOR error: 6.8536E-05 \n\nNumpy jacobi error: 2.2053E-03 \n\nJitted jacobi error: 2.2053E-03 \n\nGauss-Seidel error: 1.0804E-03 \n\nSOR error: 7.6526E-05 \n\n--------------------------------------------------\n"
    }
   ],
   "source": [
    "#Compare with analytical solution and verify that all versions produce the same results\n",
    "\n",
    "#compute L2 relative error with analytical\n",
    "u_an = u_analytical(x, y)\n",
    "\n",
    "error_np = la.norm(u_np - u_an, 2)/la.norm(u_an, 2)\n",
    "error_jit = la.norm(u_jit - u_an, 2)/la.norm(u_an, 2)\n",
    "# error_slow = la.norm(u_slow - u_an, 2)/la.norm(u_an, 2)\n",
    "error_gs = la.norm(u_gs - u_an, 2)/la.norm(u_an, 2)\n",
    "error_sor = la.norm(u_sor - u_an, 2)/la.norm(u_an, 2)\n",
    "\n",
    "print('Numpy jacobi error: {:1.4E} \\n'.format(error_np))\n",
    "print('Jitted jacobi error: {:1.4E} \\n'.format(error_jit)) \n",
    "# print('Slow jacobi error: {:1.4E} \\n'.format(error_slow))                                                                     \n",
    "print('Gauss-Seidel error: {:1.4E} \\n'.format(error_gs))                                                                             \n",
    "print('SOR error: {:1.4E} \\n'.format(error_sor))   \n",
    "\n",
    "#----------------------------------------------------------------\n",
    "#compute L_inf relative error with analytical\n",
    "\n",
    "error_np = la.norm(u_np - u_an, np.inf)/la.norm(u_an, np.inf)\n",
    "error_jit = la.norm(u_jit - u_an, np.inf)/la.norm(u_an, np.inf)\n",
    "# error_slow = la.norm(u_slow - u_an, 2)/la.norm(u_an, 2)\n",
    "error_gs = la.norm(u_gs - u_an, np.inf)/la.norm(u_an, np.inf)\n",
    "error_sor = la.norm(u_sor - u_an, np.inf)/la.norm(u_an, np.inf)\n",
    "\n",
    "print('Numpy jacobi error: {:1.4E} \\n'.format(error_np))\n",
    "print('Jitted jacobi error: {:1.4E} \\n'.format(error_jit)) \n",
    "# print('Slow jacobi error: {:1.4E} \\n'.format(error_slow))                                                                     \n",
    "print('Gauss-Seidel error: {:1.4E} \\n'.format(error_gs))                                                                             \n",
    "print('SOR error: {:1.4E} \\n'.format(error_sor))\n",
    "print('-'*50)"
   ]
  },
  {
   "cell_type": "code",
   "execution_count": 17,
   "metadata": {},
   "outputs": [],
   "source": [
    "#plot results. Function plot is basic.py\n",
    "plot(x, y, u_sor_opt, u_an=u_an)"
   ]
  },
  {
   "cell_type": "code",
   "execution_count": 16,
   "metadata": {},
   "outputs": [
    {
     "output_type": "execute_result",
     "data": {
      "text/plain": "NoneType"
     },
     "metadata": {},
     "execution_count": 16
    }
   ],
   "source": []
  },
  {
   "cell_type": "code",
   "execution_count": 10,
   "metadata": {},
   "outputs": [
    {
     "output_type": "execute_result",
     "data": {
      "text/plain": "<matplotlib.legend.Legend at 0x7f9ba6b15350>"
     },
     "metadata": {},
     "execution_count": 10
    }
   ],
   "source": [
    "%matplotlib qt\n",
    "\n",
    "fig, ax = plt.subplots()\n",
    "\n",
    "ax.plot(conv_hist_max_jit[:k_jit], label='jacobi')\n",
    "ax.plot(conv_hist_max_gs[:k_gs], label='gauss-seidel')\n",
    "ax.plot(conv_hist_max_sor[:k_sor], label='sor ($\\omega={:1.2}$)'.format(1.8))\n",
    "ax.plot(conv_hist_max_sor_opt[:k_sor_opt], label='optimum sor ($\\omega={:1.2}$)'.format(omega_opt))\n",
    "\n",
    "ax.set_xlabel('iteration')\n",
    "ax.set_ylabel('$\\\\frac{||u^{(k+1)}-u^{(k)}||_2}{||u^{(k)}||_2}$', rotation='horizontal')\n",
    "ax.yaxis.labelpad = 0\n",
    "\n",
    "ax.set_title('Convergence rate')\n",
    "\n",
    "ax.set_yscale('log')\n",
    "\n",
    "ax.legend()"
   ]
  },
  {
   "cell_type": "code",
   "execution_count": 11,
   "metadata": {},
   "outputs": [],
   "source": [
    "#plot the results\n"
   ]
  },
  {
   "cell_type": "code",
   "execution_count": null,
   "metadata": {},
   "outputs": [],
   "source": []
  }
 ],
 "metadata": {
  "language_info": {
   "codemirror_mode": {
    "name": "ipython",
    "version": 3
   },
   "file_extension": ".py",
   "mimetype": "text/x-python",
   "name": "python",
   "nbconvert_exporter": "python",
   "pygments_lexer": "ipython3",
   "version": "3.7.5-final"
  },
  "orig_nbformat": 2,
  "kernelspec": {
   "name": "python3",
   "display_name": "Python 3"
  }
 },
 "nbformat": 4,
 "nbformat_minor": 2
}